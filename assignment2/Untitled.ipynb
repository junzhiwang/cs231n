{
 "cells": [
  {
   "cell_type": "code",
   "execution_count": 2,
   "metadata": {
    "collapsed": true
   },
   "outputs": [],
   "source": [
    "import numpy as np\n",
    "\n",
    "a = np.array([[1,2,3],[4,5,6],[7,8,9]])"
   ]
  },
  {
   "cell_type": "code",
   "execution_count": 3,
   "metadata": {
    "collapsed": true
   },
   "outputs": [],
   "source": [
    "b = np.array([a.copy(), a.copy(), a.copy()])"
   ]
  },
  {
   "cell_type": "code",
   "execution_count": 4,
   "metadata": {
    "collapsed": false
   },
   "outputs": [
    {
     "data": {
      "text/plain": [
       "array([[[1, 2, 3],\n",
       "        [4, 5, 6],\n",
       "        [7, 8, 9]],\n",
       "\n",
       "       [[1, 2, 3],\n",
       "        [4, 5, 6],\n",
       "        [7, 8, 9]],\n",
       "\n",
       "       [[1, 2, 3],\n",
       "        [4, 5, 6],\n",
       "        [7, 8, 9]]])"
      ]
     },
     "execution_count": 4,
     "metadata": {},
     "output_type": "execute_result"
    }
   ],
   "source": [
    "b"
   ]
  },
  {
   "cell_type": "code",
   "execution_count": 5,
   "metadata": {
    "collapsed": false
   },
   "outputs": [
    {
     "data": {
      "text/plain": [
       "(array([[1, 2],\n",
       "        [3, 4]]), array([[[1, 2],\n",
       "         [3, 4]],\n",
       " \n",
       "        [[1, 2],\n",
       "         [3, 4]],\n",
       " \n",
       "        [[1, 2],\n",
       "         [3, 4]]]))"
      ]
     },
     "execution_count": 5,
     "metadata": {},
     "output_type": "execute_result"
    }
   ],
   "source": [
    "c = np.array([[1,2],[3,4]])\n",
    "d = np.array([c.copy(), c.copy(), c.copy()])\n",
    "c, d"
   ]
  },
  {
   "cell_type": "code",
   "execution_count": 6,
   "metadata": {
    "collapsed": false
   },
   "outputs": [
    {
     "data": {
      "text/plain": [
       "array([[[ 1,  4],\n",
       "        [12, 20]],\n",
       "\n",
       "       [[ 1,  4],\n",
       "        [12, 20]],\n",
       "\n",
       "       [[ 1,  4],\n",
       "        [12, 20]]])"
      ]
     },
     "execution_count": 6,
     "metadata": {},
     "output_type": "execute_result"
    }
   ],
   "source": [
    "b[np.arange(3),0:2,0:2] * d[np.arange(3), :, :]"
   ]
  },
  {
   "cell_type": "code",
   "execution_count": 7,
   "metadata": {
    "collapsed": false
   },
   "outputs": [
    {
     "data": {
      "text/plain": [
       "array([[[ 1,  4],\n",
       "        [12, 20]],\n",
       "\n",
       "       [[ 1,  4],\n",
       "        [12, 20]],\n",
       "\n",
       "       [[ 1,  4],\n",
       "        [12, 20]]])"
      ]
     },
     "execution_count": 7,
     "metadata": {},
     "output_type": "execute_result"
    }
   ],
   "source": [
    "e = b[np.arange(3),0:2,0:2] * d[np.arange(3), :, :]\n",
    "e"
   ]
  },
  {
   "cell_type": "code",
   "execution_count": 9,
   "metadata": {
    "collapsed": false
   },
   "outputs": [
    {
     "data": {
      "text/plain": [
       "111"
      ]
     },
     "execution_count": 9,
     "metadata": {},
     "output_type": "execute_result"
    }
   ],
   "source": [
    "f = np.sum(e)\n",
    "f"
   ]
  },
  {
   "cell_type": "code",
   "execution_count": 10,
   "metadata": {
    "collapsed": false
   },
   "outputs": [
    {
     "data": {
      "text/plain": [
       "array([[[1, 2, 3],\n",
       "        [4, 5, 6],\n",
       "        [7, 8, 9]],\n",
       "\n",
       "       [[1, 2, 3],\n",
       "        [4, 5, 6],\n",
       "        [7, 8, 9]],\n",
       "\n",
       "       [[1, 2, 3],\n",
       "        [4, 5, 6],\n",
       "        [7, 8, 9]]])"
      ]
     },
     "execution_count": 10,
     "metadata": {},
     "output_type": "execute_result"
    }
   ],
   "source": [
    "b\n"
   ]
  },
  {
   "cell_type": "code",
   "execution_count": 11,
   "metadata": {
    "collapsed": true
   },
   "outputs": [],
   "source": [
    "b = np.array([b.copy(), b.copy()\n",
    "    ])"
   ]
  },
  {
   "cell_type": "code",
   "execution_count": 12,
   "metadata": {
    "collapsed": false
   },
   "outputs": [
    {
     "data": {
      "text/plain": [
       "array([[[[1, 2, 3],\n",
       "         [4, 5, 6],\n",
       "         [7, 8, 9]],\n",
       "\n",
       "        [[1, 2, 3],\n",
       "         [4, 5, 6],\n",
       "         [7, 8, 9]],\n",
       "\n",
       "        [[1, 2, 3],\n",
       "         [4, 5, 6],\n",
       "         [7, 8, 9]]],\n",
       "\n",
       "\n",
       "       [[[1, 2, 3],\n",
       "         [4, 5, 6],\n",
       "         [7, 8, 9]],\n",
       "\n",
       "        [[1, 2, 3],\n",
       "         [4, 5, 6],\n",
       "         [7, 8, 9]],\n",
       "\n",
       "        [[1, 2, 3],\n",
       "         [4, 5, 6],\n",
       "         [7, 8, 9]]]])"
      ]
     },
     "execution_count": 12,
     "metadata": {},
     "output_type": "execute_result"
    }
   ],
   "source": [
    "b"
   ]
  },
  {
   "cell_type": "code",
   "execution_count": 13,
   "metadata": {
    "collapsed": false
   },
   "outputs": [
    {
     "data": {
      "text/plain": [
       "(2, 3, 3, 3)"
      ]
     },
     "execution_count": 13,
     "metadata": {},
     "output_type": "execute_result"
    }
   ],
   "source": [
    "b.shape"
   ]
  },
  {
   "cell_type": "code",
   "execution_count": 14,
   "metadata": {
    "collapsed": true
   },
   "outputs": [],
   "source": [
    "e = b[0, np.arange(3),0:2,0:2] * d[np.arange(3), :, :]"
   ]
  },
  {
   "cell_type": "code",
   "execution_count": 15,
   "metadata": {
    "collapsed": false
   },
   "outputs": [
    {
     "data": {
      "text/plain": [
       "array([[[ 1,  4],\n",
       "        [12, 20]],\n",
       "\n",
       "       [[ 1,  4],\n",
       "        [12, 20]],\n",
       "\n",
       "       [[ 1,  4],\n",
       "        [12, 20]]])"
      ]
     },
     "execution_count": 15,
     "metadata": {},
     "output_type": "execute_result"
    }
   ],
   "source": [
    "e"
   ]
  },
  {
   "cell_type": "code",
   "execution_count": 16,
   "metadata": {
    "collapsed": false
   },
   "outputs": [
    {
     "data": {
      "text/plain": [
       "array([[[1, 2],\n",
       "        [3, 4]],\n",
       "\n",
       "       [[1, 2],\n",
       "        [3, 4]],\n",
       "\n",
       "       [[1, 2],\n",
       "        [3, 4]]])"
      ]
     },
     "execution_count": 16,
     "metadata": {},
     "output_type": "execute_result"
    }
   ],
   "source": [
    "d"
   ]
  },
  {
   "cell_type": "code",
   "execution_count": 17,
   "metadata": {
    "collapsed": true
   },
   "outputs": [],
   "source": [
    "d = np.array([d.copy(), d.copy(), d.copy()])"
   ]
  },
  {
   "cell_type": "code",
   "execution_count": 18,
   "metadata": {
    "collapsed": false
   },
   "outputs": [
    {
     "data": {
      "text/plain": [
       "array([[[[1, 2],\n",
       "         [3, 4]],\n",
       "\n",
       "        [[1, 2],\n",
       "         [3, 4]],\n",
       "\n",
       "        [[1, 2],\n",
       "         [3, 4]]],\n",
       "\n",
       "\n",
       "       [[[1, 2],\n",
       "         [3, 4]],\n",
       "\n",
       "        [[1, 2],\n",
       "         [3, 4]],\n",
       "\n",
       "        [[1, 2],\n",
       "         [3, 4]]],\n",
       "\n",
       "\n",
       "       [[[1, 2],\n",
       "         [3, 4]],\n",
       "\n",
       "        [[1, 2],\n",
       "         [3, 4]],\n",
       "\n",
       "        [[1, 2],\n",
       "         [3, 4]]]])"
      ]
     },
     "execution_count": 18,
     "metadata": {},
     "output_type": "execute_result"
    }
   ],
   "source": [
    "d"
   ]
  },
  {
   "cell_type": "code",
   "execution_count": 19,
   "metadata": {
    "collapsed": true
   },
   "outputs": [],
   "source": [
    "e = b[0, np.arange(3),0:2,0:2] * d[0, np.arange(3), :, :]"
   ]
  },
  {
   "cell_type": "code",
   "execution_count": 24,
   "metadata": {
    "collapsed": false
   },
   "outputs": [
    {
     "data": {
      "text/plain": [
       "array([[[ 1,  4],\n",
       "        [12, 20]],\n",
       "\n",
       "       [[ 1,  4],\n",
       "        [12, 20]],\n",
       "\n",
       "       [[ 1,  4],\n",
       "        [12, 20]]])"
      ]
     },
     "execution_count": 24,
     "metadata": {},
     "output_type": "execute_result"
    }
   ],
   "source": [
    "e"
   ]
  },
  {
   "cell_type": "code",
   "execution_count": 25,
   "metadata": {
    "collapsed": false
   },
   "outputs": [
    {
     "ename": "ValueError",
     "evalue": "operands could not be broadcast together with shapes (3,3,2,2) (3,) (3,3,2,2) ",
     "traceback": [
      "\u001b[0;31m---------------------------------------------------------------------------\u001b[0m",
      "\u001b[0;31mValueError\u001b[0m                                Traceback (most recent call last)",
      "\u001b[0;32m<ipython-input-25-029ca02d74cb>\u001b[0m in \u001b[0;36m<module>\u001b[0;34m()\u001b[0m\n\u001b[0;32m----> 1\u001b[0;31m \u001b[0md\u001b[0m\u001b[0;34m[\u001b[0m\u001b[0;34m:\u001b[0m\u001b[0;34m,\u001b[0m \u001b[0mnp\u001b[0m\u001b[0;34m.\u001b[0m\u001b[0marange\u001b[0m\u001b[0;34m(\u001b[0m\u001b[0;36m3\u001b[0m\u001b[0;34m)\u001b[0m\u001b[0;34m]\u001b[0m \u001b[0;34m+=\u001b[0m \u001b[0mnp\u001b[0m\u001b[0;34m.\u001b[0m\u001b[0marray\u001b[0m\u001b[0;34m(\u001b[0m\u001b[0;34m[\u001b[0m\u001b[0;36m1\u001b[0m\u001b[0;34m,\u001b[0m\u001b[0;36m2\u001b[0m\u001b[0;34m,\u001b[0m\u001b[0;36m3\u001b[0m\u001b[0;34m]\u001b[0m\u001b[0;34m)\u001b[0m\u001b[0;34m\u001b[0m\u001b[0m\n\u001b[0m",
      "\u001b[0;31mValueError\u001b[0m: operands could not be broadcast together with shapes (3,3,2,2) (3,) (3,3,2,2) "
     ],
     "output_type": "error"
    }
   ],
   "source": [
    "d[:, np.arange(3)] += np.array([1,2,3])"
   ]
  },
  {
   "cell_type": "code",
   "execution_count": 26,
   "metadata": {
    "collapsed": false
   },
   "outputs": [
    {
     "ename": "ValueError",
     "evalue": "operands could not be broadcast together with shapes (3,3,2,2) (3,) (3,3,2,2) ",
     "traceback": [
      "\u001b[0;31m---------------------------------------------------------------------------\u001b[0m",
      "\u001b[0;31mValueError\u001b[0m                                Traceback (most recent call last)",
      "\u001b[0;32m<ipython-input-26-4f3176cb44a4>\u001b[0m in \u001b[0;36m<module>\u001b[0;34m()\u001b[0m\n\u001b[0;32m----> 1\u001b[0;31m \u001b[0md\u001b[0m\u001b[0;34m[\u001b[0m\u001b[0;34m:\u001b[0m\u001b[0;34m,\u001b[0m \u001b[0mnp\u001b[0m\u001b[0;34m.\u001b[0m\u001b[0marange\u001b[0m\u001b[0;34m(\u001b[0m\u001b[0;36m3\u001b[0m\u001b[0;34m)\u001b[0m\u001b[0;34m,\u001b[0m \u001b[0;34m:\u001b[0m\u001b[0;34m,\u001b[0m \u001b[0;34m:\u001b[0m\u001b[0;34m]\u001b[0m \u001b[0;34m+=\u001b[0m \u001b[0mnp\u001b[0m\u001b[0;34m.\u001b[0m\u001b[0marray\u001b[0m\u001b[0;34m(\u001b[0m\u001b[0;34m[\u001b[0m\u001b[0;36m1\u001b[0m\u001b[0;34m,\u001b[0m\u001b[0;36m2\u001b[0m\u001b[0;34m,\u001b[0m\u001b[0;36m3\u001b[0m\u001b[0;34m]\u001b[0m\u001b[0;34m)\u001b[0m\u001b[0;34m\u001b[0m\u001b[0m\n\u001b[0m",
      "\u001b[0;31mValueError\u001b[0m: operands could not be broadcast together with shapes (3,3,2,2) (3,) (3,3,2,2) "
     ],
     "output_type": "error"
    }
   ],
   "source": [
    "d[:, np.arange(3), :, :] += np.array([1,2,3])"
   ]
  },
  {
   "cell_type": "code",
   "execution_count": 27,
   "metadata": {
    "collapsed": false
   },
   "outputs": [
    {
     "data": {
      "text/plain": [
       "array([[[ 1,  4],\n",
       "        [12, 20]],\n",
       "\n",
       "       [[ 1,  4],\n",
       "        [12, 20]],\n",
       "\n",
       "       [[ 1,  4],\n",
       "        [12, 20]]])"
      ]
     },
     "execution_count": 27,
     "metadata": {},
     "output_type": "execute_result"
    }
   ],
   "source": [
    "e"
   ]
  },
  {
   "cell_type": "code",
   "execution_count": 28,
   "metadata": {
    "collapsed": false
   },
   "outputs": [
    {
     "data": {
      "text/plain": [
       "(3, 2, 2)"
      ]
     },
     "execution_count": 28,
     "metadata": {},
     "output_type": "execute_result"
    }
   ],
   "source": [
    "e.shape\n"
   ]
  },
  {
   "cell_type": "code",
   "execution_count": 30,
   "metadata": {
    "collapsed": false
   },
   "outputs": [],
   "source": [
    "f = np.tile(e, 2)"
   ]
  },
  {
   "cell_type": "code",
   "execution_count": 31,
   "metadata": {
    "collapsed": false
   },
   "outputs": [
    {
     "ename": "AttributeError",
     "evalue": "module 'numpy' has no attribute 'flatten'",
     "traceback": [
      "\u001b[0;31m---------------------------------------------------------------------------\u001b[0m",
      "\u001b[0;31mAttributeError\u001b[0m                            Traceback (most recent call last)",
      "\u001b[0;32m<ipython-input-31-132807a7bc39>\u001b[0m in \u001b[0;36m<module>\u001b[0;34m()\u001b[0m\n\u001b[0;32m----> 1\u001b[0;31m np.flatten(f, axis=1\n\u001b[0m\u001b[1;32m      2\u001b[0m           )\n",
      "\u001b[0;31mAttributeError\u001b[0m: module 'numpy' has no attribute 'flatten'"
     ],
     "output_type": "error"
    }
   ],
   "source": [
    "np.flatten(f, axis=1\n",
    "          )"
   ]
  },
  {
   "cell_type": "code",
   "execution_count": 32,
   "metadata": {
    "collapsed": false
   },
   "outputs": [
    {
     "data": {
      "text/plain": [
       "array([ 1,  4,  1,  4, 12, 20, 12, 20,  1,  4,  1,  4, 12, 20, 12, 20,  1,\n",
       "        4,  1,  4, 12, 20, 12, 20])"
      ]
     },
     "execution_count": 32,
     "metadata": {},
     "output_type": "execute_result"
    }
   ],
   "source": [
    "f\n",
    "f.flatten()"
   ]
  },
  {
   "cell_type": "code",
   "execution_count": 33,
   "metadata": {
    "collapsed": false
   },
   "outputs": [
    {
     "data": {
      "text/plain": [
       "array([ 1,  4,  1,  4, 12, 20, 12, 20,  1,  4,  1,  4, 12, 20, 12, 20,  1,\n",
       "        4,  1,  4, 12, 20, 12, 20])"
      ]
     },
     "execution_count": 33,
     "metadata": {},
     "output_type": "execute_result"
    }
   ],
   "source": [
    "f[:].flatten()"
   ]
  },
  {
   "cell_type": "code",
   "execution_count": 34,
   "metadata": {
    "collapsed": false
   },
   "outputs": [
    {
     "data": {
      "text/plain": [
       "array([ 1,  4,  1,  4, 12, 20, 12, 20,  1,  4,  1,  4, 12, 20, 12, 20,  1,\n",
       "        4,  1,  4, 12, 20, 12, 20])"
      ]
     },
     "execution_count": 34,
     "metadata": {},
     "output_type": "execute_result"
    }
   ],
   "source": [
    "f[np.arange(3)].flatten()"
   ]
  },
  {
   "cell_type": "code",
   "execution_count": 35,
   "metadata": {
    "collapsed": false
   },
   "outputs": [
    {
     "data": {
      "text/plain": [
       "array([ 1,  4,  1,  4, 12, 20, 12, 20,  1,  4,  1,  4, 12, 20, 12, 20,  1,\n",
       "        4,  1,  4, 12, 20, 12, 20])"
      ]
     },
     "execution_count": 35,
     "metadata": {},
     "output_type": "execute_result"
    }
   ],
   "source": [
    "f[np.arange(3), :].flatten()"
   ]
  },
  {
   "cell_type": "code",
   "execution_count": 36,
   "metadata": {
    "collapsed": true
   },
   "outputs": [],
   "source": [
    "sudoku = np.array([   \n",
    "    [2, 8, 7, 1, 6, 5, 9, 4, 3],\n",
    "    [9, 5, 4, 7, 3, 2, 1, 6, 8],\n",
    "    [6, 1, 3, 8, 4, 9, 7, 5, 2],\n",
    "    [8, 7, 9, 6, 5, 1, 2, 3, 4],\n",
    "    [4, 2, 1, 3, 9, 8, 6, 7, 5],\n",
    "    [3, 6, 5, 4, 2, 7, 8, 9, 1],\n",
    "    [1, 9, 8, 5, 7, 3, 4, 2, 6],\n",
    "    [5, 4, 2, 9, 1, 6, 3, 8, 7],\n",
    "    [7, 3, 6, 2, 8, 4, 5, 1, 9]\n",
    "])"
   ]
  },
  {
   "cell_type": "code",
   "execution_count": 43,
   "metadata": {
    "collapsed": false
   },
   "outputs": [],
   "source": [
    "shape=(5,5,5,5)\n",
    "strides=sudoku.itemsize*np.array([9,1,9,1])\n",
    "sudoku_strided = np.lib.stride_tricks.as_strided(sudoku, shape=shape, strides=strides)"
   ]
  },
  {
   "cell_type": "code",
   "execution_count": 44,
   "metadata": {
    "collapsed": false
   },
   "outputs": [
    {
     "data": {
      "text/plain": [
       "array([[[[2, 8, 7, 1, 6],\n",
       "         [9, 5, 4, 7, 3],\n",
       "         [6, 1, 3, 8, 4],\n",
       "         [8, 7, 9, 6, 5],\n",
       "         [4, 2, 1, 3, 9]],\n",
       "\n",
       "        [[8, 7, 1, 6, 5],\n",
       "         [5, 4, 7, 3, 2],\n",
       "         [1, 3, 8, 4, 9],\n",
       "         [7, 9, 6, 5, 1],\n",
       "         [2, 1, 3, 9, 8]],\n",
       "\n",
       "        [[7, 1, 6, 5, 9],\n",
       "         [4, 7, 3, 2, 1],\n",
       "         [3, 8, 4, 9, 7],\n",
       "         [9, 6, 5, 1, 2],\n",
       "         [1, 3, 9, 8, 6]],\n",
       "\n",
       "        [[1, 6, 5, 9, 4],\n",
       "         [7, 3, 2, 1, 6],\n",
       "         [8, 4, 9, 7, 5],\n",
       "         [6, 5, 1, 2, 3],\n",
       "         [3, 9, 8, 6, 7]],\n",
       "\n",
       "        [[6, 5, 9, 4, 3],\n",
       "         [3, 2, 1, 6, 8],\n",
       "         [4, 9, 7, 5, 2],\n",
       "         [5, 1, 2, 3, 4],\n",
       "         [9, 8, 6, 7, 5]]],\n",
       "\n",
       "\n",
       "       [[[9, 5, 4, 7, 3],\n",
       "         [6, 1, 3, 8, 4],\n",
       "         [8, 7, 9, 6, 5],\n",
       "         [4, 2, 1, 3, 9],\n",
       "         [3, 6, 5, 4, 2]],\n",
       "\n",
       "        [[5, 4, 7, 3, 2],\n",
       "         [1, 3, 8, 4, 9],\n",
       "         [7, 9, 6, 5, 1],\n",
       "         [2, 1, 3, 9, 8],\n",
       "         [6, 5, 4, 2, 7]],\n",
       "\n",
       "        [[4, 7, 3, 2, 1],\n",
       "         [3, 8, 4, 9, 7],\n",
       "         [9, 6, 5, 1, 2],\n",
       "         [1, 3, 9, 8, 6],\n",
       "         [5, 4, 2, 7, 8]],\n",
       "\n",
       "        [[7, 3, 2, 1, 6],\n",
       "         [8, 4, 9, 7, 5],\n",
       "         [6, 5, 1, 2, 3],\n",
       "         [3, 9, 8, 6, 7],\n",
       "         [4, 2, 7, 8, 9]],\n",
       "\n",
       "        [[3, 2, 1, 6, 8],\n",
       "         [4, 9, 7, 5, 2],\n",
       "         [5, 1, 2, 3, 4],\n",
       "         [9, 8, 6, 7, 5],\n",
       "         [2, 7, 8, 9, 1]]],\n",
       "\n",
       "\n",
       "       [[[6, 1, 3, 8, 4],\n",
       "         [8, 7, 9, 6, 5],\n",
       "         [4, 2, 1, 3, 9],\n",
       "         [3, 6, 5, 4, 2],\n",
       "         [1, 9, 8, 5, 7]],\n",
       "\n",
       "        [[1, 3, 8, 4, 9],\n",
       "         [7, 9, 6, 5, 1],\n",
       "         [2, 1, 3, 9, 8],\n",
       "         [6, 5, 4, 2, 7],\n",
       "         [9, 8, 5, 7, 3]],\n",
       "\n",
       "        [[3, 8, 4, 9, 7],\n",
       "         [9, 6, 5, 1, 2],\n",
       "         [1, 3, 9, 8, 6],\n",
       "         [5, 4, 2, 7, 8],\n",
       "         [8, 5, 7, 3, 4]],\n",
       "\n",
       "        [[8, 4, 9, 7, 5],\n",
       "         [6, 5, 1, 2, 3],\n",
       "         [3, 9, 8, 6, 7],\n",
       "         [4, 2, 7, 8, 9],\n",
       "         [5, 7, 3, 4, 2]],\n",
       "\n",
       "        [[4, 9, 7, 5, 2],\n",
       "         [5, 1, 2, 3, 4],\n",
       "         [9, 8, 6, 7, 5],\n",
       "         [2, 7, 8, 9, 1],\n",
       "         [7, 3, 4, 2, 6]]],\n",
       "\n",
       "\n",
       "       [[[8, 7, 9, 6, 5],\n",
       "         [4, 2, 1, 3, 9],\n",
       "         [3, 6, 5, 4, 2],\n",
       "         [1, 9, 8, 5, 7],\n",
       "         [5, 4, 2, 9, 1]],\n",
       "\n",
       "        [[7, 9, 6, 5, 1],\n",
       "         [2, 1, 3, 9, 8],\n",
       "         [6, 5, 4, 2, 7],\n",
       "         [9, 8, 5, 7, 3],\n",
       "         [4, 2, 9, 1, 6]],\n",
       "\n",
       "        [[9, 6, 5, 1, 2],\n",
       "         [1, 3, 9, 8, 6],\n",
       "         [5, 4, 2, 7, 8],\n",
       "         [8, 5, 7, 3, 4],\n",
       "         [2, 9, 1, 6, 3]],\n",
       "\n",
       "        [[6, 5, 1, 2, 3],\n",
       "         [3, 9, 8, 6, 7],\n",
       "         [4, 2, 7, 8, 9],\n",
       "         [5, 7, 3, 4, 2],\n",
       "         [9, 1, 6, 3, 8]],\n",
       "\n",
       "        [[5, 1, 2, 3, 4],\n",
       "         [9, 8, 6, 7, 5],\n",
       "         [2, 7, 8, 9, 1],\n",
       "         [7, 3, 4, 2, 6],\n",
       "         [1, 6, 3, 8, 7]]],\n",
       "\n",
       "\n",
       "       [[[4, 2, 1, 3, 9],\n",
       "         [3, 6, 5, 4, 2],\n",
       "         [1, 9, 8, 5, 7],\n",
       "         [5, 4, 2, 9, 1],\n",
       "         [7, 3, 6, 2, 8]],\n",
       "\n",
       "        [[2, 1, 3, 9, 8],\n",
       "         [6, 5, 4, 2, 7],\n",
       "         [9, 8, 5, 7, 3],\n",
       "         [4, 2, 9, 1, 6],\n",
       "         [3, 6, 2, 8, 4]],\n",
       "\n",
       "        [[1, 3, 9, 8, 6],\n",
       "         [5, 4, 2, 7, 8],\n",
       "         [8, 5, 7, 3, 4],\n",
       "         [2, 9, 1, 6, 3],\n",
       "         [6, 2, 8, 4, 5]],\n",
       "\n",
       "        [[3, 9, 8, 6, 7],\n",
       "         [4, 2, 7, 8, 9],\n",
       "         [5, 7, 3, 4, 2],\n",
       "         [9, 1, 6, 3, 8],\n",
       "         [2, 8, 4, 5, 1]],\n",
       "\n",
       "        [[9, 8, 6, 7, 5],\n",
       "         [2, 7, 8, 9, 1],\n",
       "         [7, 3, 4, 2, 6],\n",
       "         [1, 6, 3, 8, 7],\n",
       "         [8, 4, 5, 1, 9]]]])"
      ]
     },
     "execution_count": 44,
     "metadata": {},
     "output_type": "execute_result"
    }
   ],
   "source": [
    "sudoku_strided"
   ]
  },
  {
   "cell_type": "code",
   "execution_count": 45,
   "metadata": {
    "collapsed": true
   },
   "outputs": [],
   "source": [
    "strides=sudoku.itemsize*np.array([1,9,1,9])\n",
    "sudoku_strided = np.transpose(np.lib.stride_tricks.as_strided(sudoku, shape=shape, strides=strides), (1,0,3,2))\n"
   ]
  },
  {
   "cell_type": "code",
   "execution_count": 46,
   "metadata": {
    "collapsed": false
   },
   "outputs": [
    {
     "data": {
      "text/plain": [
       "array([[[[2, 8, 7, 1, 6],\n",
       "         [9, 5, 4, 7, 3],\n",
       "         [6, 1, 3, 8, 4],\n",
       "         [8, 7, 9, 6, 5],\n",
       "         [4, 2, 1, 3, 9]],\n",
       "\n",
       "        [[8, 7, 1, 6, 5],\n",
       "         [5, 4, 7, 3, 2],\n",
       "         [1, 3, 8, 4, 9],\n",
       "         [7, 9, 6, 5, 1],\n",
       "         [2, 1, 3, 9, 8]],\n",
       "\n",
       "        [[7, 1, 6, 5, 9],\n",
       "         [4, 7, 3, 2, 1],\n",
       "         [3, 8, 4, 9, 7],\n",
       "         [9, 6, 5, 1, 2],\n",
       "         [1, 3, 9, 8, 6]],\n",
       "\n",
       "        [[1, 6, 5, 9, 4],\n",
       "         [7, 3, 2, 1, 6],\n",
       "         [8, 4, 9, 7, 5],\n",
       "         [6, 5, 1, 2, 3],\n",
       "         [3, 9, 8, 6, 7]],\n",
       "\n",
       "        [[6, 5, 9, 4, 3],\n",
       "         [3, 2, 1, 6, 8],\n",
       "         [4, 9, 7, 5, 2],\n",
       "         [5, 1, 2, 3, 4],\n",
       "         [9, 8, 6, 7, 5]]],\n",
       "\n",
       "\n",
       "       [[[9, 5, 4, 7, 3],\n",
       "         [6, 1, 3, 8, 4],\n",
       "         [8, 7, 9, 6, 5],\n",
       "         [4, 2, 1, 3, 9],\n",
       "         [3, 6, 5, 4, 2]],\n",
       "\n",
       "        [[5, 4, 7, 3, 2],\n",
       "         [1, 3, 8, 4, 9],\n",
       "         [7, 9, 6, 5, 1],\n",
       "         [2, 1, 3, 9, 8],\n",
       "         [6, 5, 4, 2, 7]],\n",
       "\n",
       "        [[4, 7, 3, 2, 1],\n",
       "         [3, 8, 4, 9, 7],\n",
       "         [9, 6, 5, 1, 2],\n",
       "         [1, 3, 9, 8, 6],\n",
       "         [5, 4, 2, 7, 8]],\n",
       "\n",
       "        [[7, 3, 2, 1, 6],\n",
       "         [8, 4, 9, 7, 5],\n",
       "         [6, 5, 1, 2, 3],\n",
       "         [3, 9, 8, 6, 7],\n",
       "         [4, 2, 7, 8, 9]],\n",
       "\n",
       "        [[3, 2, 1, 6, 8],\n",
       "         [4, 9, 7, 5, 2],\n",
       "         [5, 1, 2, 3, 4],\n",
       "         [9, 8, 6, 7, 5],\n",
       "         [2, 7, 8, 9, 1]]],\n",
       "\n",
       "\n",
       "       [[[6, 1, 3, 8, 4],\n",
       "         [8, 7, 9, 6, 5],\n",
       "         [4, 2, 1, 3, 9],\n",
       "         [3, 6, 5, 4, 2],\n",
       "         [1, 9, 8, 5, 7]],\n",
       "\n",
       "        [[1, 3, 8, 4, 9],\n",
       "         [7, 9, 6, 5, 1],\n",
       "         [2, 1, 3, 9, 8],\n",
       "         [6, 5, 4, 2, 7],\n",
       "         [9, 8, 5, 7, 3]],\n",
       "\n",
       "        [[3, 8, 4, 9, 7],\n",
       "         [9, 6, 5, 1, 2],\n",
       "         [1, 3, 9, 8, 6],\n",
       "         [5, 4, 2, 7, 8],\n",
       "         [8, 5, 7, 3, 4]],\n",
       "\n",
       "        [[8, 4, 9, 7, 5],\n",
       "         [6, 5, 1, 2, 3],\n",
       "         [3, 9, 8, 6, 7],\n",
       "         [4, 2, 7, 8, 9],\n",
       "         [5, 7, 3, 4, 2]],\n",
       "\n",
       "        [[4, 9, 7, 5, 2],\n",
       "         [5, 1, 2, 3, 4],\n",
       "         [9, 8, 6, 7, 5],\n",
       "         [2, 7, 8, 9, 1],\n",
       "         [7, 3, 4, 2, 6]]],\n",
       "\n",
       "\n",
       "       [[[8, 7, 9, 6, 5],\n",
       "         [4, 2, 1, 3, 9],\n",
       "         [3, 6, 5, 4, 2],\n",
       "         [1, 9, 8, 5, 7],\n",
       "         [5, 4, 2, 9, 1]],\n",
       "\n",
       "        [[7, 9, 6, 5, 1],\n",
       "         [2, 1, 3, 9, 8],\n",
       "         [6, 5, 4, 2, 7],\n",
       "         [9, 8, 5, 7, 3],\n",
       "         [4, 2, 9, 1, 6]],\n",
       "\n",
       "        [[9, 6, 5, 1, 2],\n",
       "         [1, 3, 9, 8, 6],\n",
       "         [5, 4, 2, 7, 8],\n",
       "         [8, 5, 7, 3, 4],\n",
       "         [2, 9, 1, 6, 3]],\n",
       "\n",
       "        [[6, 5, 1, 2, 3],\n",
       "         [3, 9, 8, 6, 7],\n",
       "         [4, 2, 7, 8, 9],\n",
       "         [5, 7, 3, 4, 2],\n",
       "         [9, 1, 6, 3, 8]],\n",
       "\n",
       "        [[5, 1, 2, 3, 4],\n",
       "         [9, 8, 6, 7, 5],\n",
       "         [2, 7, 8, 9, 1],\n",
       "         [7, 3, 4, 2, 6],\n",
       "         [1, 6, 3, 8, 7]]],\n",
       "\n",
       "\n",
       "       [[[4, 2, 1, 3, 9],\n",
       "         [3, 6, 5, 4, 2],\n",
       "         [1, 9, 8, 5, 7],\n",
       "         [5, 4, 2, 9, 1],\n",
       "         [7, 3, 6, 2, 8]],\n",
       "\n",
       "        [[2, 1, 3, 9, 8],\n",
       "         [6, 5, 4, 2, 7],\n",
       "         [9, 8, 5, 7, 3],\n",
       "         [4, 2, 9, 1, 6],\n",
       "         [3, 6, 2, 8, 4]],\n",
       "\n",
       "        [[1, 3, 9, 8, 6],\n",
       "         [5, 4, 2, 7, 8],\n",
       "         [8, 5, 7, 3, 4],\n",
       "         [2, 9, 1, 6, 3],\n",
       "         [6, 2, 8, 4, 5]],\n",
       "\n",
       "        [[3, 9, 8, 6, 7],\n",
       "         [4, 2, 7, 8, 9],\n",
       "         [5, 7, 3, 4, 2],\n",
       "         [9, 1, 6, 3, 8],\n",
       "         [2, 8, 4, 5, 1]],\n",
       "\n",
       "        [[9, 8, 6, 7, 5],\n",
       "         [2, 7, 8, 9, 1],\n",
       "         [7, 3, 4, 2, 6],\n",
       "         [1, 6, 3, 8, 7],\n",
       "         [8, 4, 5, 1, 9]]]])"
      ]
     },
     "execution_count": 46,
     "metadata": {},
     "output_type": "execute_result"
    }
   ],
   "source": [
    "sudoku_strided"
   ]
  },
  {
   "cell_type": "code",
   "execution_count": null,
   "metadata": {
    "collapsed": true
   },
   "outputs": [],
   "source": []
  }
 ],
 "metadata": {
  "kernelspec": {
   "display_name": "Python 3",
   "language": "python",
   "name": "python3"
  },
  "language_info": {
   "codemirror_mode": {
    "name": "ipython",
    "version": 3
   },
   "file_extension": ".py",
   "mimetype": "text/x-python",
   "name": "python",
   "nbconvert_exporter": "python",
   "pygments_lexer": "ipython3",
   "version": "3.6.3"
  }
 },
 "nbformat": 4,
 "nbformat_minor": 0
}
