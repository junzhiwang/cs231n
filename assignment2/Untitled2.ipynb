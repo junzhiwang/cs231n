{
 "cells": [
  {
   "cell_type": "code",
   "execution_count": 1,
   "metadata": {
    "collapsed": false
   },
   "outputs": [
    {
     "ename": "NameError",
     "evalue": "name 'np' is not defined",
     "output_type": "error",
     "traceback": [
      "\u001b[0;31m---------------------------------------------------------------------------\u001b[0m",
      "\u001b[0;31mNameError\u001b[0m                                 Traceback (most recent call last)",
      "\u001b[0;32m<ipython-input-1-868621a90d92>\u001b[0m in \u001b[0;36m<module>\u001b[0;34m()\u001b[0m\n\u001b[0;32m----> 1\u001b[0;31m \u001b[0mz\u001b[0m \u001b[0;34m=\u001b[0m \u001b[0mnp\u001b[0m\u001b[0;34m.\u001b[0m\u001b[0mzeros\u001b[0m\u001b[0;34m(\u001b[0m\u001b[0;34m(\u001b[0m\u001b[0;36m3\u001b[0m\u001b[0;34m,\u001b[0m\u001b[0;36m3\u001b[0m\u001b[0;34m,\u001b[0m\u001b[0;36m3\u001b[0m\u001b[0;34m,\u001b[0m\u001b[0;36m3\u001b[0m\u001b[0;34m)\u001b[0m\u001b[0;34m,\u001b[0m\u001b[0mdtype\u001b[0m\u001b[0;34m=\u001b[0m\u001b[0mnp\u001b[0m\u001b[0;34m.\u001b[0m\u001b[0mint\u001b[0m\u001b[0;34m)\u001b[0m\u001b[0;34m\u001b[0m\u001b[0m\n\u001b[0m",
      "\u001b[0;31mNameError\u001b[0m: name 'np' is not defined"
     ]
    }
   ],
   "source": [
    "z = np.zeros((3,3,3,3),dtype=np.int)\n"
   ]
  },
  {
   "cell_type": "code",
   "execution_count": 2,
   "metadata": {
    "collapsed": false
   },
   "outputs": [
    {
     "data": {
      "text/plain": [
       "array([[[[0, 0, 0],\n",
       "         [0, 0, 0],\n",
       "         [0, 0, 0]],\n",
       "\n",
       "        [[0, 0, 0],\n",
       "         [0, 0, 0],\n",
       "         [0, 0, 0]],\n",
       "\n",
       "        [[0, 0, 0],\n",
       "         [0, 0, 0],\n",
       "         [0, 0, 0]]],\n",
       "\n",
       "\n",
       "       [[[0, 0, 0],\n",
       "         [0, 0, 0],\n",
       "         [0, 0, 0]],\n",
       "\n",
       "        [[0, 0, 0],\n",
       "         [0, 0, 0],\n",
       "         [0, 0, 0]],\n",
       "\n",
       "        [[0, 0, 0],\n",
       "         [0, 0, 0],\n",
       "         [0, 0, 0]]],\n",
       "\n",
       "\n",
       "       [[[0, 0, 0],\n",
       "         [0, 0, 0],\n",
       "         [0, 0, 0]],\n",
       "\n",
       "        [[0, 0, 0],\n",
       "         [0, 0, 0],\n",
       "         [0, 0, 0]],\n",
       "\n",
       "        [[0, 0, 0],\n",
       "         [0, 0, 0],\n",
       "         [0, 0, 0]]]])"
      ]
     },
     "execution_count": 2,
     "metadata": {},
     "output_type": "execute_result"
    }
   ],
   "source": [
    "import numpy as np\n",
    "z = np.zeros((3,3,3,3),dtype=np.int)\n",
    "z"
   ]
  },
  {
   "cell_type": "code",
   "execution_count": 3,
   "metadata": {
    "collapsed": false
   },
   "outputs": [
    {
     "data": {
      "text/plain": [
       "array([[[[1, 1, 1],\n",
       "         [1, 1, 1],\n",
       "         [1, 1, 1]],\n",
       "\n",
       "        [[0, 0, 0],\n",
       "         [0, 0, 0],\n",
       "         [0, 0, 0]],\n",
       "\n",
       "        [[0, 0, 0],\n",
       "         [0, 0, 0],\n",
       "         [0, 0, 0]]],\n",
       "\n",
       "\n",
       "       [[[0, 0, 0],\n",
       "         [0, 0, 0],\n",
       "         [0, 0, 0]],\n",
       "\n",
       "        [[0, 0, 0],\n",
       "         [0, 0, 0],\n",
       "         [0, 0, 0]],\n",
       "\n",
       "        [[0, 0, 0],\n",
       "         [0, 0, 0],\n",
       "         [0, 0, 0]]],\n",
       "\n",
       "\n",
       "       [[[0, 0, 0],\n",
       "         [0, 0, 0],\n",
       "         [0, 0, 0]],\n",
       "\n",
       "        [[0, 0, 0],\n",
       "         [0, 0, 0],\n",
       "         [0, 0, 0]],\n",
       "\n",
       "        [[0, 0, 0],\n",
       "         [0, 0, 0],\n",
       "         [0, 0, 0]]]])"
      ]
     },
     "execution_count": 3,
     "metadata": {},
     "output_type": "execute_result"
    }
   ],
   "source": [
    "z[0,0]=1\n",
    "z"
   ]
  },
  {
   "cell_type": "code",
   "execution_count": 4,
   "metadata": {
    "collapsed": true
   },
   "outputs": [],
   "source": [
    "z[0,1], z[0,2], z[1, 0], z[1,1], z[1,2], z[2,0],z[2,1],z[2,2]=2,3,4,5,6,7,8,9"
   ]
  },
  {
   "cell_type": "code",
   "execution_count": 5,
   "metadata": {
    "collapsed": false
   },
   "outputs": [
    {
     "data": {
      "text/plain": [
       "array([[[[1, 1, 1],\n",
       "         [1, 1, 1],\n",
       "         [1, 1, 1]],\n",
       "\n",
       "        [[2, 2, 2],\n",
       "         [2, 2, 2],\n",
       "         [2, 2, 2]],\n",
       "\n",
       "        [[3, 3, 3],\n",
       "         [3, 3, 3],\n",
       "         [3, 3, 3]]],\n",
       "\n",
       "\n",
       "       [[[4, 4, 4],\n",
       "         [4, 4, 4],\n",
       "         [4, 4, 4]],\n",
       "\n",
       "        [[5, 5, 5],\n",
       "         [5, 5, 5],\n",
       "         [5, 5, 5]],\n",
       "\n",
       "        [[6, 6, 6],\n",
       "         [6, 6, 6],\n",
       "         [6, 6, 6]]],\n",
       "\n",
       "\n",
       "       [[[7, 7, 7],\n",
       "         [7, 7, 7],\n",
       "         [7, 7, 7]],\n",
       "\n",
       "        [[8, 8, 8],\n",
       "         [8, 8, 8],\n",
       "         [8, 8, 8]],\n",
       "\n",
       "        [[9, 9, 9],\n",
       "         [9, 9, 9],\n",
       "         [9, 9, 9]]]])"
      ]
     },
     "execution_count": 5,
     "metadata": {},
     "output_type": "execute_result"
    }
   ],
   "source": [
    "z"
   ]
  },
  {
   "cell_type": "code",
   "execution_count": 6,
   "metadata": {
    "collapsed": false
   },
   "outputs": [
    {
     "data": {
      "text/plain": [
       "array([[[1, 1, 1, 4, 4, 4, 7, 7, 7],\n",
       "        [1, 1, 1, 4, 4, 4, 7, 7, 7],\n",
       "        [1, 1, 1, 4, 4, 4, 7, 7, 7]],\n",
       "\n",
       "       [[2, 2, 2, 5, 5, 5, 8, 8, 8],\n",
       "        [2, 2, 2, 5, 5, 5, 8, 8, 8],\n",
       "        [2, 2, 2, 5, 5, 5, 8, 8, 8]],\n",
       "\n",
       "       [[3, 3, 3, 6, 6, 6, 9, 9, 9],\n",
       "        [3, 3, 3, 6, 6, 6, 9, 9, 9],\n",
       "        [3, 3, 3, 6, 6, 6, 9, 9, 9]]])"
      ]
     },
     "execution_count": 6,
     "metadata": {},
     "output_type": "execute_result"
    }
   ],
   "source": [
    "np.concatenate(z, axis=2)"
   ]
  },
  {
   "cell_type": "code",
   "execution_count": 7,
   "metadata": {
    "collapsed": false
   },
   "outputs": [
    {
     "data": {
      "text/plain": [
       "array([[[1, 1, 1],\n",
       "        [1, 1, 1],\n",
       "        [1, 1, 1],\n",
       "        [4, 4, 4],\n",
       "        [4, 4, 4],\n",
       "        [4, 4, 4],\n",
       "        [7, 7, 7],\n",
       "        [7, 7, 7],\n",
       "        [7, 7, 7]],\n",
       "\n",
       "       [[2, 2, 2],\n",
       "        [2, 2, 2],\n",
       "        [2, 2, 2],\n",
       "        [5, 5, 5],\n",
       "        [5, 5, 5],\n",
       "        [5, 5, 5],\n",
       "        [8, 8, 8],\n",
       "        [8, 8, 8],\n",
       "        [8, 8, 8]],\n",
       "\n",
       "       [[3, 3, 3],\n",
       "        [3, 3, 3],\n",
       "        [3, 3, 3],\n",
       "        [6, 6, 6],\n",
       "        [6, 6, 6],\n",
       "        [6, 6, 6],\n",
       "        [9, 9, 9],\n",
       "        [9, 9, 9],\n",
       "        [9, 9, 9]]])"
      ]
     },
     "execution_count": 7,
     "metadata": {},
     "output_type": "execute_result"
    }
   ],
   "source": [
    "np.concatenate(z, axis=1)"
   ]
  },
  {
   "cell_type": "code",
   "execution_count": 9,
   "metadata": {
    "collapsed": false
   },
   "outputs": [
    {
     "data": {
      "text/plain": [
       "array([[[1, 1, 1],\n",
       "        [1, 1, 1],\n",
       "        [1, 1, 1]],\n",
       "\n",
       "       [[2, 2, 2],\n",
       "        [2, 2, 2],\n",
       "        [2, 2, 2]],\n",
       "\n",
       "       [[3, 3, 3],\n",
       "        [3, 3, 3],\n",
       "        [3, 3, 3]],\n",
       "\n",
       "       [[4, 4, 4],\n",
       "        [4, 4, 4],\n",
       "        [4, 4, 4]],\n",
       "\n",
       "       [[5, 5, 5],\n",
       "        [5, 5, 5],\n",
       "        [5, 5, 5]],\n",
       "\n",
       "       [[6, 6, 6],\n",
       "        [6, 6, 6],\n",
       "        [6, 6, 6]],\n",
       "\n",
       "       [[7, 7, 7],\n",
       "        [7, 7, 7],\n",
       "        [7, 7, 7]],\n",
       "\n",
       "       [[8, 8, 8],\n",
       "        [8, 8, 8],\n",
       "        [8, 8, 8]],\n",
       "\n",
       "       [[9, 9, 9],\n",
       "        [9, 9, 9],\n",
       "        [9, 9, 9]]])"
      ]
     },
     "execution_count": 9,
     "metadata": {},
     "output_type": "execute_result"
    }
   ],
   "source": [
    "np.concatenate(z, axis=0)"
   ]
  },
  {
   "cell_type": "code",
   "execution_count": 10,
   "metadata": {
    "collapsed": false
   },
   "outputs": [
    {
     "data": {
      "text/plain": [
       "array([[[[1, 1, 1],\n",
       "         [1, 1, 1],\n",
       "         [1, 1, 1]],\n",
       "\n",
       "        [[2, 2, 2],\n",
       "         [2, 2, 2],\n",
       "         [2, 2, 2]],\n",
       "\n",
       "        [[3, 3, 3],\n",
       "         [3, 3, 3],\n",
       "         [3, 3, 3]]],\n",
       "\n",
       "\n",
       "       [[[4, 4, 4],\n",
       "         [4, 4, 4],\n",
       "         [4, 4, 4]],\n",
       "\n",
       "        [[5, 5, 5],\n",
       "         [5, 5, 5],\n",
       "         [5, 5, 5]],\n",
       "\n",
       "        [[6, 6, 6],\n",
       "         [6, 6, 6],\n",
       "         [6, 6, 6]]],\n",
       "\n",
       "\n",
       "       [[[7, 7, 7],\n",
       "         [7, 7, 7],\n",
       "         [7, 7, 7]],\n",
       "\n",
       "        [[8, 8, 8],\n",
       "         [8, 8, 8],\n",
       "         [8, 8, 8]],\n",
       "\n",
       "        [[9, 9, 9],\n",
       "         [9, 9, 9],\n",
       "         [9, 9, 9]]]])"
      ]
     },
     "execution_count": 10,
     "metadata": {},
     "output_type": "execute_result"
    }
   ],
   "source": [
    "z"
   ]
  },
  {
   "cell_type": "code",
   "execution_count": 11,
   "metadata": {
    "collapsed": true
   },
   "outputs": [],
   "source": [
    "a = z[0,0\n",
    "    ]"
   ]
  },
  {
   "cell_type": "code",
   "execution_count": 12,
   "metadata": {
    "collapsed": false
   },
   "outputs": [
    {
     "data": {
      "text/plain": [
       "array([[1, 1, 1],\n",
       "       [1, 1, 1],\n",
       "       [1, 1, 1]])"
      ]
     },
     "execution_count": 12,
     "metadata": {},
     "output_type": "execute_result"
    }
   ],
   "source": [
    "a"
   ]
  },
  {
   "cell_type": "code",
   "execution_count": 13,
   "metadata": {
    "collapsed": false
   },
   "outputs": [
    {
     "ename": "IndexError",
     "evalue": "axis 1 out of bounds [0, 1)",
     "output_type": "error",
     "traceback": [
      "\u001b[0;31m---------------------------------------------------------------------------\u001b[0m",
      "\u001b[0;31mIndexError\u001b[0m                                Traceback (most recent call last)",
      "\u001b[0;32m<ipython-input-13-159e28bb5297>\u001b[0m in \u001b[0;36m<module>\u001b[0;34m()\u001b[0m\n\u001b[0;32m----> 1\u001b[0;31m \u001b[0mnp\u001b[0m\u001b[0;34m.\u001b[0m\u001b[0mconcatenate\u001b[0m\u001b[0;34m(\u001b[0m\u001b[0ma\u001b[0m\u001b[0;34m,\u001b[0m \u001b[0maxis\u001b[0m\u001b[0;34m=\u001b[0m\u001b[0;36m1\u001b[0m\u001b[0;34m)\u001b[0m\u001b[0;34m\u001b[0m\u001b[0m\n\u001b[0m",
      "\u001b[0;31mIndexError\u001b[0m: axis 1 out of bounds [0, 1)"
     ]
    }
   ],
   "source": [
    "np.concatenate(a, axis=1)"
   ]
  },
  {
   "cell_type": "code",
   "execution_count": 14,
   "metadata": {
    "collapsed": false
   },
   "outputs": [
    {
     "data": {
      "text/plain": [
       "array([1, 1, 1, 1, 1, 1, 1, 1, 1])"
      ]
     },
     "execution_count": 14,
     "metadata": {},
     "output_type": "execute_result"
    }
   ],
   "source": [
    "np.concatenate(a, axis=0)"
   ]
  },
  {
   "cell_type": "code",
   "execution_count": 15,
   "metadata": {
    "collapsed": false
   },
   "outputs": [
    {
     "data": {
      "text/plain": [
       "array([[[1, 1, 1, 4, 4, 4, 7, 7, 7],\n",
       "        [1, 1, 1, 4, 4, 4, 7, 7, 7],\n",
       "        [1, 1, 1, 4, 4, 4, 7, 7, 7]],\n",
       "\n",
       "       [[2, 2, 2, 5, 5, 5, 8, 8, 8],\n",
       "        [2, 2, 2, 5, 5, 5, 8, 8, 8],\n",
       "        [2, 2, 2, 5, 5, 5, 8, 8, 8]],\n",
       "\n",
       "       [[3, 3, 3, 6, 6, 6, 9, 9, 9],\n",
       "        [3, 3, 3, 6, 6, 6, 9, 9, 9],\n",
       "        [3, 3, 3, 6, 6, 6, 9, 9, 9]]])"
      ]
     },
     "execution_count": 15,
     "metadata": {},
     "output_type": "execute_result"
    }
   ],
   "source": [
    "np.concatenate(z, axis=2)"
   ]
  },
  {
   "cell_type": "code",
   "execution_count": 17,
   "metadata": {
    "collapsed": false
   },
   "outputs": [
    {
     "data": {
      "text/plain": [
       "array([[1, 1, 1, 4, 4, 4, 7, 7, 7, 2, 2, 2, 5, 5, 5, 8, 8, 8, 3, 3, 3, 6,\n",
       "        6, 6, 9, 9, 9],\n",
       "       [1, 1, 1, 4, 4, 4, 7, 7, 7, 2, 2, 2, 5, 5, 5, 8, 8, 8, 3, 3, 3, 6,\n",
       "        6, 6, 9, 9, 9],\n",
       "       [1, 1, 1, 4, 4, 4, 7, 7, 7, 2, 2, 2, 5, 5, 5, 8, 8, 8, 3, 3, 3, 6,\n",
       "        6, 6, 9, 9, 9]])"
      ]
     },
     "execution_count": 17,
     "metadata": {},
     "output_type": "execute_result"
    }
   ],
   "source": [
    "np.concatenate(np.concatenate(z, axis=2), axis=1)"
   ]
  },
  {
   "cell_type": "code",
   "execution_count": 18,
   "metadata": {
    "collapsed": false
   },
   "outputs": [
    {
     "data": {
      "text/plain": [
       "array([[1, 1, 1, 4, 4, 4, 7, 7, 7],\n",
       "       [1, 1, 1, 4, 4, 4, 7, 7, 7],\n",
       "       [1, 1, 1, 4, 4, 4, 7, 7, 7],\n",
       "       [2, 2, 2, 5, 5, 5, 8, 8, 8],\n",
       "       [2, 2, 2, 5, 5, 5, 8, 8, 8],\n",
       "       [2, 2, 2, 5, 5, 5, 8, 8, 8],\n",
       "       [3, 3, 3, 6, 6, 6, 9, 9, 9],\n",
       "       [3, 3, 3, 6, 6, 6, 9, 9, 9],\n",
       "       [3, 3, 3, 6, 6, 6, 9, 9, 9]])"
      ]
     },
     "execution_count": 18,
     "metadata": {},
     "output_type": "execute_result"
    }
   ],
   "source": [
    "np.concatenate(np.concatenate(z, axis=2), axis=0)"
   ]
  },
  {
   "cell_type": "code",
   "execution_count": 19,
   "metadata": {
    "collapsed": false
   },
   "outputs": [
    {
     "data": {
      "text/plain": [
       "array([[[[1, 1, 1],\n",
       "         [1, 1, 1],\n",
       "         [1, 1, 1]],\n",
       "\n",
       "        [[2, 2, 2],\n",
       "         [2, 2, 2],\n",
       "         [2, 2, 2]],\n",
       "\n",
       "        [[3, 3, 3],\n",
       "         [3, 3, 3],\n",
       "         [3, 3, 3]]],\n",
       "\n",
       "\n",
       "       [[[4, 4, 4],\n",
       "         [4, 4, 4],\n",
       "         [4, 4, 4]],\n",
       "\n",
       "        [[5, 5, 5],\n",
       "         [5, 5, 5],\n",
       "         [5, 5, 5]],\n",
       "\n",
       "        [[6, 6, 6],\n",
       "         [6, 6, 6],\n",
       "         [6, 6, 6]]],\n",
       "\n",
       "\n",
       "       [[[7, 7, 7],\n",
       "         [7, 7, 7],\n",
       "         [7, 7, 7]],\n",
       "\n",
       "        [[8, 8, 8],\n",
       "         [8, 8, 8],\n",
       "         [8, 8, 8]],\n",
       "\n",
       "        [[9, 9, 9],\n",
       "         [9, 9, 9],\n",
       "         [9, 9, 9]]]])"
      ]
     },
     "execution_count": 19,
     "metadata": {},
     "output_type": "execute_result"
    }
   ],
   "source": [
    "z"
   ]
  },
  {
   "cell_type": "code",
   "execution_count": null,
   "metadata": {
    "collapsed": true
   },
   "outputs": [],
   "source": []
  }
 ],
 "metadata": {
  "kernelspec": {
   "display_name": "Python 3",
   "language": "python",
   "name": "python3"
  },
  "language_info": {
   "codemirror_mode": {
    "name": "ipython",
    "version": 3
   },
   "file_extension": ".py",
   "mimetype": "text/x-python",
   "name": "python",
   "nbconvert_exporter": "python",
   "pygments_lexer": "ipython3",
   "version": "3.6.3"
  }
 },
 "nbformat": 4,
 "nbformat_minor": 0
}
