{
 "cells": [
  {
   "cell_type": "markdown",
   "metadata": {},
   "source": [
    "# Training a ConvNet PyTorch\n",
    "\n",
    "In this notebook, you'll learn how to use the powerful PyTorch framework to specify a conv net architecture and train it on the CIFAR-10 dataset."
   ]
  },
  {
   "cell_type": "code",
   "execution_count": 1,
   "metadata": {
    "collapsed": false
   },
   "outputs": [],
   "source": [
    "import torch\n",
    "import torch.nn as nn\n",
    "import torch.optim as optim\n",
    "from torch.autograd import Variable\n",
    "from torch.utils.data import DataLoader\n",
    "from torch.utils.data import sampler\n",
    "\n",
    "import torchvision.datasets as dset\n",
    "import torchvision.transforms as T\n",
    "\n",
    "import numpy as np\n",
    "\n",
    "import timeit"
   ]
  },
  {
   "cell_type": "markdown",
   "metadata": {},
   "source": [
    "## What's this PyTorch business?\n",
    "\n",
    "You've written a lot of code in this assignment to provide a whole host of neural network functionality. Dropout, Batch Norm, and 2D convolutions are some of the workhorses of deep learning in computer vision. You've also worked hard to make your code efficient and vectorized.\n",
    "\n",
    "For the last part of this assignment, though, we're going to leave behind your beautiful codebase and instead migrate to one of two popular deep learning frameworks: in this instance, PyTorch (or TensorFlow, if you switch over to that notebook). \n",
    "\n",
    "Why?\n",
    "\n",
    "* Our code will now run on GPUs! Much faster training. When using a framework like PyTorch or TensorFlow you can harness the power of the GPU for your own custom neural network architectures without having to write CUDA code directly (which is beyond the scope of this class).\n",
    "* We want you to be ready to use one of these frameworks for your project so you can experiment more efficiently than if you were writing every feature you want to use by hand. \n",
    "* We want you to stand on the shoulders of giants! TensorFlow and PyTorch are both excellent frameworks that will make your lives a lot easier, and now that you understand their guts, you are free to use them :) \n",
    "* We want you to be exposed to the sort of deep learning code you might run into in academia or industry. "
   ]
  },
  {
   "cell_type": "markdown",
   "metadata": {},
   "source": [
    "## How will I learn PyTorch?\n",
    "\n",
    "If you've used Torch before, but are new to PyTorch, this tutorial might be of use: http://pytorch.org/tutorials/beginner/former_torchies_tutorial.html\n",
    "\n",
    "Otherwise, this notebook will walk you through much of what you need to do to train models in Torch. See the end of the notebook for some links to helpful tutorials if you want to learn more or need further clarification on topics that aren't fully explained here."
   ]
  },
  {
   "cell_type": "markdown",
   "metadata": {},
   "source": [
    "## Load Datasets\n",
    "\n",
    "We load the CIFAR-10 dataset. This might take a couple minutes the first time you do it, but the files should stay cached after that."
   ]
  },
  {
   "cell_type": "code",
   "execution_count": 2,
   "metadata": {
    "collapsed": false
   },
   "outputs": [
    {
     "name": "stdout",
     "output_type": "stream",
     "text": [
      "Files already downloaded and verified\n",
      "Files already downloaded and verified\n",
      "Files already downloaded and verified\n"
     ]
    }
   ],
   "source": [
    "class ChunkSampler(sampler.Sampler):\n",
    "    \"\"\"Samples elements sequentially from some offset. \n",
    "    Arguments:\n",
    "        num_samples: # of desired datapoints\n",
    "        start: offset where we should start selecting from\n",
    "    \"\"\"\n",
    "    def __init__(self, num_samples, start = 0):\n",
    "        self.num_samples = num_samples\n",
    "        self.start = start\n",
    "\n",
    "    def __iter__(self):\n",
    "        return iter(range(self.start, self.start + self.num_samples))\n",
    "\n",
    "    def __len__(self):\n",
    "        return self.num_samples\n",
    "\n",
    "NUM_TRAIN = 49000\n",
    "NUM_VAL = 1000\n",
    "\n",
    "cifar10_train = dset.CIFAR10('./cs231n/datasets', train=True, download=True,\n",
    "                           transform=T.ToTensor())\n",
    "loader_train = DataLoader(cifar10_train, batch_size=64, sampler=ChunkSampler(NUM_TRAIN, 0))\n",
    "\n",
    "cifar10_val = dset.CIFAR10('./cs231n/datasets', train=True, download=True,\n",
    "                           transform=T.ToTensor())\n",
    "loader_val = DataLoader(cifar10_val, batch_size=64, sampler=ChunkSampler(NUM_VAL, NUM_TRAIN))\n",
    "\n",
    "cifar10_test = dset.CIFAR10('./cs231n/datasets', train=False, download=True,\n",
    "                          transform=T.ToTensor())\n",
    "loader_test = DataLoader(cifar10_test, batch_size=64)\n"
   ]
  },
  {
   "cell_type": "markdown",
   "metadata": {},
   "source": [
    "For now, we're going to use a CPU-friendly datatype. Later, we'll switch to a datatype that will move all our computations to the GPU and measure the speedup."
   ]
  },
  {
   "cell_type": "code",
   "execution_count": 8,
   "metadata": {
    "collapsed": false
   },
   "outputs": [
    {
     "ename": "TypeError",
     "evalue": "'DataLoader' object does not support indexing",
     "output_type": "error",
     "traceback": [
      "\u001b[1;31m---------------------------------------------------------------------------\u001b[0m",
      "\u001b[1;31mTypeError\u001b[0m                                 Traceback (most recent call last)",
      "\u001b[1;32m<ipython-input-8-9817ec1e5456>\u001b[0m in \u001b[0;36m<module>\u001b[1;34m()\u001b[0m\n\u001b[1;32m----> 1\u001b[1;33m \u001b[0mprint\u001b[0m\u001b[1;33m(\u001b[0m\u001b[0mlen\u001b[0m\u001b[1;33m(\u001b[0m\u001b[0mloader_train\u001b[0m\u001b[1;33m[\u001b[0m\u001b[1;36m0\u001b[0m\u001b[1;33m]\u001b[0m\u001b[1;33m)\u001b[0m\u001b[1;33m)\u001b[0m\u001b[1;33m\u001b[0m\u001b[0m\n\u001b[0m\u001b[0;32m      2\u001b[0m \u001b[0mprint\u001b[0m\u001b[1;33m(\u001b[0m\u001b[0mlen\u001b[0m\u001b[1;33m(\u001b[0m\u001b[0mloader_val\u001b[0m\u001b[1;33m)\u001b[0m\u001b[1;33m)\u001b[0m\u001b[1;33m\u001b[0m\u001b[0m\n\u001b[0;32m      3\u001b[0m \u001b[0mprint\u001b[0m\u001b[1;33m(\u001b[0m\u001b[0mlen\u001b[0m\u001b[1;33m(\u001b[0m\u001b[0mloader_test\u001b[0m\u001b[1;33m)\u001b[0m\u001b[1;33m)\u001b[0m\u001b[1;33m\u001b[0m\u001b[0m\n",
      "\u001b[1;31mTypeError\u001b[0m: 'DataLoader' object does not support indexing"
     ]
    }
   ],
   "source": [
    "print(len(loader_train))\n",
    "print(len(loader_val))\n",
    "print(len(loader_test))"
   ]
  },
  {
   "cell_type": "code",
   "execution_count": 24,
   "metadata": {
    "collapsed": true
   },
   "outputs": [],
   "source": [
    "dtype = torch.FloatTensor # the CPU datatype\n",
    "\n",
    "# Constant to control how frequently we print train loss\n",
    "print_every = 100\n",
    "\n",
    "# This is a little utility that we'll use to reset the model\n",
    "# if we want to re-initialize all our parameters\n",
    "def reset(m):\n",
    "    if hasattr(m, 'reset_parameters'):\n",
    "        m.reset_parameters()"
   ]
  },
  {
   "cell_type": "markdown",
   "metadata": {},
   "source": [
    "## Example Model\n",
    "\n",
    "### Some assorted tidbits\n",
    "\n",
    "Let's start by looking at a simple model. First, note that PyTorch operates on Tensors, which are n-dimensional arrays functionally analogous to numpy's ndarrays, with the additional feature that they can be used for computations on GPUs.\n",
    "\n",
    "We'll provide you with a Flatten function, which we explain here. Remember that our image data (and more relevantly, our intermediate feature maps) are initially N x C x H x W, where:\n",
    "* N is the number of datapoints\n",
    "* C is the number of channels\n",
    "* H is the height of the intermediate feature map in pixels\n",
    "* W is the height of the intermediate feature map in pixels\n",
    "\n",
    "This is the right way to represent the data when we are doing something like a 2D convolution, that needs spatial understanding of where the intermediate features are relative to each other. When we input  data into fully connected affine layers, however, we want each datapoint to be represented by a single vector -- it's no longer useful to segregate the different channels, rows, and columns of the data. So, we use a \"Flatten\" operation to collapse the C x H x W values per representation into a single long vector. The Flatten function below first reads in the N, C, H, and W values from a given batch of data, and then returns a \"view\" of that data. \"View\" is analogous to numpy's \"reshape\" method: it reshapes x's dimensions to be N x ??, where ?? is allowed to be anything (in this case, it will be C x H x W, but we don't need to specify that explicitly). "
   ]
  },
  {
   "cell_type": "code",
   "execution_count": 10,
   "metadata": {
    "collapsed": true
   },
   "outputs": [],
   "source": [
    "class Flatten(nn.Module):\n",
    "    def forward(self, x):\n",
    "        N, C, H, W = x.size() # read in N, C, H, W\n",
    "        return x.view(N, -1)  # \"flatten\" the C * H * W values into a single vector per image"
   ]
  },
  {
   "cell_type": "markdown",
   "metadata": {},
   "source": [
    "### The example model itself\n",
    "\n",
    "The first step to training your own model is defining its architecture.\n",
    "\n",
    "Here's an example of a convolutional neural network defined in PyTorch -- try to understand what each line is doing, remembering that each layer is composed upon the previous layer. We haven't trained anything yet - that'll come next - for now, we want you to understand how everything gets set up.  nn.Sequential is a container which applies each layer\n",
    "one after the other.\n",
    "\n",
    "In that example, you see 2D convolutional layers (Conv2d), ReLU activations, and fully-connected layers (Linear). You also see the Cross-Entropy loss function, and the Adam optimizer being used. \n",
    "\n",
    "Make sure you understand why the parameters of the Linear layer are 5408 and 10.\n"
   ]
  },
  {
   "cell_type": "code",
   "execution_count": 5,
   "metadata": {
    "collapsed": false
   },
   "outputs": [],
   "source": [
    "# Here's where we define the architecture of the model... \n",
    "simple_model = nn.Sequential(\n",
    "                # https://towardsdatascience.com/types-of-convolutions-in-deep-learning-717013397f4d\n",
    "                nn.Conv2d(3, 32, kernel_size=7, stride=2),\n",
    "                nn.ReLU(inplace=True),\n",
    "                Flatten(), # see above for explanation\n",
    "                # ((32 - 7 + 2 * 0) // 2 + 1)**2 * 32  ... ((len-kernel - kernel_size + 2*padding) // 2 + 1)**2 * filter_size\n",
    "                nn.Linear(5408, 10), # affine layer\n",
    "              )\n",
    "\n",
    "# Set the type of all data in this model to be FloatTensor \n",
    "simple_model.type(dtype)\n",
    "\n",
    "loss_fn = nn.CrossEntropyLoss().type(dtype)\n",
    "optimizer = optim.Adam(simple_model.parameters(), lr=1e-2) # lr sets the learning rate of the optimizer"
   ]
  },
  {
   "cell_type": "markdown",
   "metadata": {},
   "source": [
    "PyTorch supports many other layer types, loss functions, and optimizers - you will experiment with these next. Here's the official API documentation for these (if any of the parameters used above were unclear, this resource will also be helpful). One note: what we call in the class \"spatial batch norm\" is called \"BatchNorm2D\" in PyTorch.\n",
    "\n",
    "* Layers: http://pytorch.org/docs/nn.html\n",
    "* Activations: http://pytorch.org/docs/nn.html#non-linear-activations\n",
    "* Loss functions: http://pytorch.org/docs/nn.html#loss-functions\n",
    "* Optimizers: http://pytorch.org/docs/optim.html#algorithms"
   ]
  },
  {
   "cell_type": "markdown",
   "metadata": {},
   "source": [
    "## Training a specific model\n",
    "\n",
    "In this section, we're going to specify a model for you to construct. The goal here isn't to get good performance (that'll be next), but instead to get comfortable with understanding the PyTorch documentation and configuring your own model. \n",
    "\n",
    "Using the code provided above as guidance, and using the following PyTorch documentation, specify a model with the following architecture:\n",
    "\n",
    "* 7x7 Convolutional Layer with 32 filters and stride of 1\n",
    "* ReLU Activation Layer\n",
    "* Spatial Batch Normalization Layer\n",
    "* 2x2 Max Pooling layer with a stride of 2\n",
    "* Affine layer with 1024 output units\n",
    "* ReLU Activation Layer\n",
    "* Affine layer from 1024 input units to 10 outputs\n",
    "\n",
    "And finally, set up a **cross-entropy** loss function and the **RMSprop** learning rule."
   ]
  },
  {
   "cell_type": "code",
   "execution_count": 6,
   "metadata": {
    "collapsed": false
   },
   "outputs": [],
   "source": [
    "in_channel, out_channel, kernel_size, stride = 3, 32, 7, 1\n",
    "pool_size, pool_stride = 2, 2\n",
    "affine_in, affine_out = 5408, 1024\n",
    "affine_in_2, affine_out_2 = 1024, 10\n",
    "\n",
    "fixed_model = nn.Sequential(\n",
    "\tnn.Conv2d(in_channel, out_channel, kernel_size=kernel_size, stride=stride),\n",
    "\tnn.ReLU(),\n",
    "\tnn.BatchNorm2d(out_channel, affine=True),\n",
    "\tnn.MaxPool2d(kernel_size=pool_size),\n",
    "\tFlatten(),\n",
    "\tnn.Linear(affine_in, affine_out),\n",
    "\tnn.ReLU(),\n",
    "\tnn.Linear(affine_in_2, affine_out_2)\n",
    ")\n",
    "\n",
    "fixed_model.type(dtype)\n",
    "loss_fn = nn.CrossEntropyLoss().type(dtype)\n",
    "optimizer = optim.RMSprop(fixed_model.parameters())"
   ]
  },
  {
   "cell_type": "markdown",
   "metadata": {},
   "source": [
    "To make sure you're doing the right thing, use the following tool to check the dimensionality of your output (it should be 64 x 10, since our batches have size 64 and the output of the final affine layer should be 10, corresponding to our 10 classes):"
   ]
  },
  {
   "cell_type": "code",
   "execution_count": 7,
   "metadata": {
    "collapsed": false
   },
   "outputs": [
    {
     "data": {
      "text/plain": [
       "True"
      ]
     },
     "execution_count": 7,
     "metadata": {},
     "output_type": "execute_result"
    }
   ],
   "source": [
    "## Now we're going to feed a random batch into the model you defined and make sure the output is the right size\n",
    "x = torch.randn(64, 3, 32, 32).type(dtype)\n",
    "x_var = Variable(x.type(dtype)) # Construct a PyTorch Variable out of your input data\n",
    "ans = fixed_model(x_var)        # Feed it through the model! \n",
    "\n",
    "# Check to make sure what comes out of your model\n",
    "# is the right dimensionality... this should be True\n",
    "# if you've done everything correctly\n",
    "np.array_equal(np.array(ans.size()), np.array([64, 10]))       "
   ]
  },
  {
   "cell_type": "markdown",
   "metadata": {},
   "source": [
    "### GPU!\n",
    "\n",
    "Now, we're going to switch the dtype of the model and our data to the GPU-friendly tensors, and see what happens... everything is the same, except we are casting our model and input tensors as this new dtype instead of the old one.\n",
    "\n",
    "If this returns false, or otherwise fails in a not-graceful way (i.e., with some error message), you may not have an NVIDIA GPU available on your machine. If you're running locally, we recommend you switch to Google Cloud and follow the instructions to set up a GPU there. If you're already on Google Cloud, something is wrong -- make sure you followed the instructions on how to request and use a GPU on your instance. If you did, post on Piazza or come to Office Hours so we can help you debug."
   ]
  },
  {
   "cell_type": "code",
   "execution_count": 8,
   "metadata": {
    "collapsed": false
   },
   "outputs": [
    {
     "data": {
      "text/plain": [
       "True"
      ]
     },
     "execution_count": 8,
     "metadata": {},
     "output_type": "execute_result"
    }
   ],
   "source": [
    "# Verify that CUDA is properly configured and you have a GPU available\n",
    "\n",
    "torch.cuda.is_available()"
   ]
  },
  {
   "cell_type": "code",
   "execution_count": 4,
   "metadata": {
    "collapsed": false
   },
   "outputs": [
    {
     "ename": "NameError",
     "evalue": "name 'fixed_model' is not defined",
     "output_type": "error",
     "traceback": [
      "\u001b[1;31m---------------------------------------------------------------------------\u001b[0m",
      "\u001b[1;31mNameError\u001b[0m                                 Traceback (most recent call last)",
      "\u001b[1;32m<ipython-input-4-0d6c03e3ef02>\u001b[0m in \u001b[0;36m<module>\u001b[1;34m()\u001b[0m\n\u001b[0;32m      2\u001b[0m \u001b[0mgpu_dtype\u001b[0m \u001b[1;33m=\u001b[0m \u001b[0mtorch\u001b[0m\u001b[1;33m.\u001b[0m\u001b[0mcuda\u001b[0m\u001b[1;33m.\u001b[0m\u001b[0mFloatTensor\u001b[0m\u001b[1;33m\u001b[0m\u001b[0m\n\u001b[0;32m      3\u001b[0m \u001b[1;33m\u001b[0m\u001b[0m\n\u001b[1;32m----> 4\u001b[1;33m \u001b[0mfixed_model_gpu\u001b[0m \u001b[1;33m=\u001b[0m \u001b[0mcopy\u001b[0m\u001b[1;33m.\u001b[0m\u001b[0mdeepcopy\u001b[0m\u001b[1;33m(\u001b[0m\u001b[0mfixed_model\u001b[0m\u001b[1;33m)\u001b[0m\u001b[1;33m.\u001b[0m\u001b[0mtype\u001b[0m\u001b[1;33m(\u001b[0m\u001b[0mgpu_dtype\u001b[0m\u001b[1;33m)\u001b[0m\u001b[1;33m\u001b[0m\u001b[0m\n\u001b[0m\u001b[0;32m      5\u001b[0m \u001b[1;33m\u001b[0m\u001b[0m\n\u001b[0;32m      6\u001b[0m \u001b[0mx_gpu\u001b[0m \u001b[1;33m=\u001b[0m \u001b[0mtorch\u001b[0m\u001b[1;33m.\u001b[0m\u001b[0mrandn\u001b[0m\u001b[1;33m(\u001b[0m\u001b[1;36m64\u001b[0m\u001b[1;33m,\u001b[0m \u001b[1;36m3\u001b[0m\u001b[1;33m,\u001b[0m \u001b[1;36m32\u001b[0m\u001b[1;33m,\u001b[0m \u001b[1;36m32\u001b[0m\u001b[1;33m)\u001b[0m\u001b[1;33m.\u001b[0m\u001b[0mtype\u001b[0m\u001b[1;33m(\u001b[0m\u001b[0mgpu_dtype\u001b[0m\u001b[1;33m)\u001b[0m\u001b[1;33m\u001b[0m\u001b[0m\n",
      "\u001b[1;31mNameError\u001b[0m: name 'fixed_model' is not defined"
     ]
    }
   ],
   "source": [
    "import copy\n",
    "gpu_dtype = torch.cuda.FloatTensor\n",
    "\n",
    "fixed_model_gpu = copy.deepcopy(fixed_model).type(gpu_dtype)\n",
    "\n",
    "x_gpu = torch.randn(64, 3, 32, 32).type(gpu_dtype)\n",
    "x_var_gpu = Variable(x.type(gpu_dtype)) # Construct a PyTorch Variable out of your input data\n",
    "ans = fixed_model_gpu(x_var_gpu)        # Feed it through the model! \n",
    "\n",
    "# Check to make sure what comes out of your model\n",
    "# is the right dimensionality... this should be True\n",
    "# if you've done everything correctly\n",
    "np.array_equal(np.array(ans.size()), np.array([64, 10]))"
   ]
  },
  {
   "cell_type": "markdown",
   "metadata": {},
   "source": [
    "Run the following cell to evaluate the performance of the forward pass running on the CPU:"
   ]
  },
  {
   "cell_type": "code",
   "execution_count": 11,
   "metadata": {
    "collapsed": false
   },
   "outputs": [
    {
     "name": "stdout",
     "output_type": "stream",
     "text": [
      "100 loops, best of 3: 17.8 ms per loop\n"
     ]
    }
   ],
   "source": [
    "%%timeit \n",
    "ans = fixed_model(x_var)"
   ]
  },
  {
   "cell_type": "markdown",
   "metadata": {},
   "source": [
    "... and now the GPU:"
   ]
  },
  {
   "cell_type": "code",
   "execution_count": 12,
   "metadata": {
    "collapsed": false
   },
   "outputs": [
    {
     "name": "stdout",
     "output_type": "stream",
     "text": [
      "The slowest run took 4.22 times longer than the fastest. This could mean that an intermediate result is being cached \n",
      "1000 loops, best of 3: 463 µs per loop\n"
     ]
    }
   ],
   "source": [
    "%%timeit \n",
    "torch.cuda.synchronize() # Make sure there are no pending GPU computations\n",
    "ans = fixed_model_gpu(x_var_gpu)        # Feed it through the model! \n",
    "torch.cuda.synchronize() # Make sure there are no pending GPU computations"
   ]
  },
  {
   "cell_type": "markdown",
   "metadata": {},
   "source": [
    "You should observe that even a simple forward pass like this is significantly faster on the GPU. So for the rest of the assignment (and when you go train your models in assignment 3 and your project!), you should use the GPU datatype for your model and your tensors: as a reminder that is *torch.cuda.FloatTensor* (in our notebook here as *gpu_dtype*)"
   ]
  },
  {
   "cell_type": "markdown",
   "metadata": {},
   "source": [
    "### Train the model.\n",
    "\n",
    "Now that you've seen how to define a model and do a single forward pass of some data through it, let's  walk through how you'd actually train one whole epoch over your training data (using the simple_model we provided above).\n",
    "\n",
    "Make sure you understand how each PyTorch function used below corresponds to what you implemented in your custom neural network implementation.\n",
    "\n",
    "Note that because we are not resetting the weights anywhere below, if you run the cell multiple times, you are effectively training multiple epochs (so your performance should improve).\n",
    "\n",
    "First, set up an RMSprop optimizer (using a 1e-3 learning rate) and a cross-entropy loss function:"
   ]
  },
  {
   "cell_type": "code",
   "execution_count": 11,
   "metadata": {
    "collapsed": false
   },
   "outputs": [
    {
     "ename": "NameError",
     "evalue": "name 'fixed_model' is not defined",
     "output_type": "error",
     "traceback": [
      "\u001b[1;31m---------------------------------------------------------------------------\u001b[0m",
      "\u001b[1;31mNameError\u001b[0m                                 Traceback (most recent call last)",
      "\u001b[1;32m<ipython-input-11-01e383613a8a>\u001b[0m in \u001b[0;36m<module>\u001b[1;34m()\u001b[0m\n\u001b[0;32m      1\u001b[0m \u001b[0mloss_fn\u001b[0m \u001b[1;33m=\u001b[0m \u001b[0mnn\u001b[0m\u001b[1;33m.\u001b[0m\u001b[0mCrossEntropyLoss\u001b[0m\u001b[1;33m(\u001b[0m\u001b[1;33m)\u001b[0m\u001b[1;33m.\u001b[0m\u001b[0mtype\u001b[0m\u001b[1;33m(\u001b[0m\u001b[0mdtype\u001b[0m\u001b[1;33m)\u001b[0m\u001b[1;33m\u001b[0m\u001b[0m\n\u001b[1;32m----> 2\u001b[1;33m \u001b[0moptimizer\u001b[0m \u001b[1;33m=\u001b[0m \u001b[0moptim\u001b[0m\u001b[1;33m.\u001b[0m\u001b[0mRMSprop\u001b[0m\u001b[1;33m(\u001b[0m\u001b[0mfixed_model\u001b[0m\u001b[1;33m.\u001b[0m\u001b[0mparameters\u001b[0m\u001b[1;33m(\u001b[0m\u001b[1;33m)\u001b[0m\u001b[1;33m,\u001b[0m \u001b[0mlr\u001b[0m\u001b[1;33m=\u001b[0m\u001b[1;36m1e-3\u001b[0m\u001b[1;33m)\u001b[0m\u001b[1;33m\u001b[0m\u001b[0m\n\u001b[0m",
      "\u001b[1;31mNameError\u001b[0m: name 'fixed_model' is not defined"
     ]
    }
   ],
   "source": [
    "loss_fn = nn.CrossEntropyLoss().type(dtype)\n",
    "optimizer = optim.RMSprop(fixed_model.parameters(), lr=1e-3)\n"
   ]
  },
  {
   "cell_type": "code",
   "execution_count": 14,
   "metadata": {
    "collapsed": false
   },
   "outputs": [
    {
     "name": "stdout",
     "output_type": "stream",
     "text": [
      "t = 100, loss = 1.3694\n",
      "t = 200, loss = 1.4885\n",
      "t = 300, loss = 1.3688\n",
      "t = 400, loss = 1.2354\n",
      "t = 500, loss = 1.2286\n",
      "t = 600, loss = 1.3642\n",
      "t = 700, loss = 1.2847\n"
     ]
    }
   ],
   "source": [
    "# This sets the model in \"training\" mode. This is relevant for some layers that may have different behavior\n",
    "# in training mode vs testing mode, such as Dropout and BatchNorm. \n",
    "fixed_model.train()\n",
    "\n",
    "# Load one batch at a time.\n",
    "for t, (x, y) in enumerate(loader_train):\n",
    "    x_var = Variable(x.type(dtype))\n",
    "    y_var = Variable(y.type(dtype).long())\n",
    "\n",
    "    # This is the forward pass: predict the scores for each class, for each x in the batch.\n",
    "    scores = fixed_model(x_var)\n",
    "    \n",
    "    # Use the correct y values and the predicted y values to compute the loss.\n",
    "    loss = loss_fn(scores, y_var)\n",
    "    \n",
    "    if (t + 1) % print_every == 0:\n",
    "        print('t = %d, loss = %.4f' % (t + 1, loss.data[0]))\n",
    "\n",
    "    # Zero out all of the gradients for the variables which the optimizer will update.\n",
    "    optimizer.zero_grad()\n",
    "    \n",
    "    # This is the backwards pass: compute the gradient of the loss with respect to each \n",
    "    # parameter of the model.\n",
    "    loss.backward()\n",
    "    \n",
    "    # Actually update the parameters of the model using the gradients computed by the backwards pass.\n",
    "    optimizer.step()"
   ]
  },
  {
   "cell_type": "markdown",
   "metadata": {},
   "source": [
    "Now you've seen how the training process works in PyTorch. To save you writing boilerplate code, we're providing the following helper functions to help you train for multiple epochs and check the accuracy of your model:"
   ]
  },
  {
   "cell_type": "code",
   "execution_count": 27,
   "metadata": {
    "collapsed": true
   },
   "outputs": [],
   "source": [
    "def check_accuracy(model, loader, dtype=torch.FloatTensor):\n",
    "    if loader.dataset.train:\n",
    "        print('Checking accuracy on validation set')\n",
    "    else:\n",
    "        print('Checking accuracy on test set')   \n",
    "    num_correct = 0\n",
    "    num_samples = 0\n",
    "    model.eval() # Put the model in test mode (the opposite of model.train(), essentially)\n",
    "    for x, y in loader:\n",
    "        x_var = Variable(x.type(dtype), volatile=True)\n",
    "\n",
    "        scores = model(x_var)\n",
    "        _, preds = scores.data.cpu().max(1)\n",
    "        num_correct += (preds == y).sum()\n",
    "        num_samples += preds.size(0)\n",
    "    acc = float(num_correct) / num_samples\n",
    "    print('Got %d / %d correct (%.2f)' % (num_correct, num_samples, 100 * acc))\n",
    "    return acc\n",
    "    \n",
    "def train(model, loss_fn, optimizer, num_epochs = 1, dtype=torch.FloatTensor):\n",
    "    best_acc = 0\n",
    "    best_model = 0\n",
    "    for epoch in range(num_epochs):\n",
    "        print('Starting epoch %d / %d' % (epoch + 1, num_epochs))\n",
    "        model.train()\n",
    "        cur_acc = check_accuracy(model, loader_val, dtype=dtype)\n",
    "        if cur_acc > best_acc and epoch >= 8:\n",
    "            best_acc = cur_acc\n",
    "            best_model = copy.deepcopy(model).type(dtype)\n",
    "        for t, (x, y) in enumerate(loader_train):\n",
    "            x_var = Variable(x.type(dtype))\n",
    "            y_var = Variable(y.type(dtype).long())\n",
    "\n",
    "            scores = model(x_var)\n",
    "            \n",
    "            loss = loss_fn(scores, y_var)\n",
    "            if (t + 1) % print_every == 0:\n",
    "                print('t = %d, loss = %.4f' % (t + 1, loss.data[0]))\n",
    "\n",
    "            optimizer.zero_grad()\n",
    "            loss.backward()\n",
    "            optimizer.step()\n",
    "    cur_acc = check_accuracy(model, loader_val, dtype=dtype)\n",
    "    if cur_acc > best_acc and epoch >= 8:\n",
    "        best_acc = cur_acc\n",
    "        best_model = copy.deepcopy(model).type(dtype)   \n",
    "    return best_model"
   ]
  },
  {
   "cell_type": "markdown",
   "metadata": {},
   "source": [
    "### Check the accuracy of the model.\n",
    "\n",
    "Let's see the train and check_accuracy code in action -- feel free to use these methods when evaluating the models you develop below.\n",
    "\n",
    "You should get a training loss of around 1.2-1.4, and a validation accuracy of around 50-60%. As mentioned above, if you re-run the cells, you'll be training more epochs, so your performance will improve past these numbers.\n",
    "\n",
    "But don't worry about getting these numbers better -- this was just practice before you tackle designing your own model."
   ]
  },
  {
   "cell_type": "code",
   "execution_count": 16,
   "metadata": {
    "collapsed": false
   },
   "outputs": [
    {
     "name": "stdout",
     "output_type": "stream",
     "text": [
      "Starting epoch 1 / 1\n",
      "t = 100, loss = 1.0385\n",
      "t = 200, loss = 1.0831\n",
      "t = 300, loss = 1.0205\n",
      "t = 400, loss = 0.8342\n",
      "t = 500, loss = 0.8840\n",
      "t = 600, loss = 1.1507\n",
      "t = 700, loss = 0.8169\n",
      "Checking accuracy on validation set\n",
      "Got 630 / 1000 correct (63.00)\n"
     ]
    }
   ],
   "source": [
    "# torch.cuda.random.manual_seed(12345)\n",
    "# fixed_model_gpu.apply(reset)\n",
    "train(fixed_model, loss_fn, optimizer, num_epochs=1)\n",
    "check_accuracy(fixed_model, loader_val)"
   ]
  },
  {
   "cell_type": "markdown",
   "metadata": {},
   "source": [
    "### Don't forget the validation set!\n",
    "\n",
    "And note that you can use the check_accuracy function to evaluate on either the test set or the validation set, by passing either **loader_test** or **loader_val** as the second argument to check_accuracy. You should not touch the test set until you have finished your architecture and hyperparameter tuning, and only run the test set once at the end to report a final value. "
   ]
  },
  {
   "cell_type": "markdown",
   "metadata": {},
   "source": [
    "## Train a _great_ model on CIFAR-10!\n",
    "\n",
    "Now it's your job to experiment with architectures, hyperparameters, loss functions, and optimizers to train a model that achieves **>=70%** accuracy on the CIFAR-10 **validation** set. You can use the check_accuracy and train functions from above."
   ]
  },
  {
   "cell_type": "code",
   "execution_count": 28,
   "metadata": {
    "collapsed": false
   },
   "outputs": [
    {
     "name": "stdout",
     "output_type": "stream",
     "text": [
      "Starting epoch 1 / 20\n",
      "Checking accuracy on validation set\n",
      "Got 107 / 1000 correct (10.70)\n",
      "t = 100, loss = 2.0899\n",
      "t = 200, loss = 2.0092\n",
      "t = 300, loss = 1.9502\n",
      "t = 400, loss = 1.7048\n",
      "t = 500, loss = 1.6637\n",
      "t = 600, loss = 1.7124\n",
      "t = 700, loss = 1.6864\n",
      "Starting epoch 2 / 20\n",
      "Checking accuracy on validation set\n",
      "Got 487 / 1000 correct (48.70)\n",
      "t = 100, loss = 1.2018\n",
      "t = 200, loss = 1.3562\n",
      "t = 300, loss = 1.5029\n",
      "t = 400, loss = 1.1704\n",
      "t = 500, loss = 1.2322\n",
      "t = 600, loss = 1.1535\n",
      "t = 700, loss = 1.4873\n",
      "Starting epoch 3 / 20\n",
      "Checking accuracy on validation set\n",
      "Got 630 / 1000 correct (63.00)\n",
      "t = 100, loss = 0.8750\n",
      "t = 200, loss = 0.9251\n",
      "t = 300, loss = 1.1421\n",
      "t = 400, loss = 0.8660\n",
      "t = 500, loss = 0.9897\n",
      "t = 600, loss = 0.9654\n",
      "t = 700, loss = 1.0132\n",
      "Starting epoch 4 / 20\n",
      "Checking accuracy on validation set\n",
      "Got 732 / 1000 correct (73.20)\n",
      "t = 100, loss = 0.6895\n",
      "t = 200, loss = 0.7673\n",
      "t = 300, loss = 0.9325\n",
      "t = 400, loss = 0.6323\n",
      "t = 500, loss = 0.7601\n",
      "t = 600, loss = 0.7575\n",
      "t = 700, loss = 0.7223\n",
      "Starting epoch 5 / 20\n",
      "Checking accuracy on validation set\n",
      "Got 764 / 1000 correct (76.40)\n",
      "t = 100, loss = 0.5064\n",
      "t = 200, loss = 0.6322\n",
      "t = 300, loss = 0.7047\n",
      "t = 400, loss = 0.4854\n",
      "t = 500, loss = 0.5124\n",
      "t = 600, loss = 0.5168\n",
      "t = 700, loss = 0.5034\n",
      "Starting epoch 6 / 20\n",
      "Checking accuracy on validation set\n",
      "Got 770 / 1000 correct (77.00)\n",
      "t = 100, loss = 0.3142\n",
      "t = 200, loss = 0.4301\n",
      "t = 300, loss = 0.4526\n",
      "t = 400, loss = 0.3686\n",
      "t = 500, loss = 0.2934\n",
      "t = 600, loss = 0.2987\n",
      "t = 700, loss = 0.3471\n",
      "Starting epoch 7 / 20\n",
      "Checking accuracy on validation set\n",
      "Got 791 / 1000 correct (79.10)\n",
      "t = 100, loss = 0.2313\n",
      "t = 200, loss = 0.2558\n",
      "t = 300, loss = 0.3018\n",
      "t = 400, loss = 0.3693\n",
      "t = 500, loss = 0.1218\n",
      "t = 600, loss = 0.1603\n",
      "t = 700, loss = 0.1182\n",
      "Starting epoch 8 / 20\n",
      "Checking accuracy on validation set\n",
      "Got 801 / 1000 correct (80.10)\n",
      "t = 100, loss = 0.0777\n",
      "t = 200, loss = 0.1676\n",
      "t = 300, loss = 0.1357\n",
      "t = 400, loss = 0.1632\n",
      "t = 500, loss = 0.1235\n",
      "t = 600, loss = 0.0919\n",
      "t = 700, loss = 0.0635\n",
      "Starting epoch 9 / 20\n",
      "Checking accuracy on validation set\n",
      "Got 787 / 1000 correct (78.70)\n",
      "t = 100, loss = 0.1165\n",
      "t = 200, loss = 0.1448\n",
      "t = 300, loss = 0.0949\n",
      "t = 400, loss = 0.1603\n",
      "t = 500, loss = 0.0549\n",
      "t = 600, loss = 0.1543\n",
      "t = 700, loss = 0.1236\n",
      "Starting epoch 10 / 20\n",
      "Checking accuracy on validation set\n",
      "Got 808 / 1000 correct (80.80)\n",
      "t = 100, loss = 0.2346\n",
      "t = 200, loss = 0.1177\n",
      "t = 300, loss = 0.0551\n",
      "t = 400, loss = 0.0135\n",
      "t = 500, loss = 0.0794\n",
      "t = 600, loss = 0.0805\n",
      "t = 700, loss = 0.0210\n",
      "Starting epoch 11 / 20\n",
      "Checking accuracy on validation set\n",
      "Got 780 / 1000 correct (78.00)\n",
      "t = 100, loss = 0.0769\n",
      "t = 200, loss = 0.0455\n",
      "t = 300, loss = 0.0845\n",
      "t = 400, loss = 0.1228\n",
      "t = 500, loss = 0.2055\n",
      "t = 600, loss = 0.0131\n",
      "t = 700, loss = 0.0374\n",
      "Starting epoch 12 / 20\n",
      "Checking accuracy on validation set\n",
      "Got 783 / 1000 correct (78.30)\n",
      "t = 100, loss = 0.0148\n",
      "t = 200, loss = 0.0247\n",
      "t = 300, loss = 0.0454\n",
      "t = 400, loss = 0.0981\n",
      "t = 500, loss = 0.0453\n",
      "t = 600, loss = 0.0088\n",
      "t = 700, loss = 0.0408\n",
      "Starting epoch 13 / 20\n",
      "Checking accuracy on validation set\n",
      "Got 774 / 1000 correct (77.40)\n",
      "t = 100, loss = 0.0608\n",
      "t = 200, loss = 0.0348\n",
      "t = 300, loss = 0.0113\n",
      "t = 400, loss = 0.0291\n",
      "t = 500, loss = 0.0468\n",
      "t = 600, loss = 0.0822\n",
      "t = 700, loss = 0.0213\n",
      "Starting epoch 14 / 20\n",
      "Checking accuracy on validation set\n",
      "Got 786 / 1000 correct (78.60)\n",
      "t = 100, loss = 0.0368\n",
      "t = 200, loss = 0.0293\n",
      "t = 300, loss = 0.0344\n",
      "t = 400, loss = 0.0051\n",
      "t = 500, loss = 0.1606\n",
      "t = 600, loss = 0.0344\n",
      "t = 700, loss = 0.0949\n",
      "Starting epoch 15 / 20\n",
      "Checking accuracy on validation set\n",
      "Got 798 / 1000 correct (79.80)\n",
      "t = 100, loss = 0.0008\n",
      "t = 200, loss = 0.0146\n",
      "t = 300, loss = 0.0343\n",
      "t = 400, loss = 0.0196\n",
      "t = 500, loss = 0.0031\n",
      "t = 600, loss = 0.0668\n",
      "t = 700, loss = 0.0609\n",
      "Starting epoch 16 / 20\n",
      "Checking accuracy on validation set\n",
      "Got 807 / 1000 correct (80.70)\n",
      "t = 100, loss = 0.0060\n",
      "t = 200, loss = 0.0293\n",
      "t = 300, loss = 0.0375\n",
      "t = 400, loss = 0.0288\n",
      "t = 500, loss = 0.0091\n",
      "t = 600, loss = 0.0066\n",
      "t = 700, loss = 0.0651\n",
      "Starting epoch 17 / 20\n",
      "Checking accuracy on validation set\n",
      "Got 807 / 1000 correct (80.70)\n",
      "t = 100, loss = 0.2191\n",
      "t = 200, loss = 0.1073\n",
      "t = 300, loss = 0.1378\n",
      "t = 400, loss = 0.0353\n",
      "t = 500, loss = 0.0049\n",
      "t = 600, loss = 0.0176\n",
      "t = 700, loss = 0.0077\n",
      "Starting epoch 18 / 20\n",
      "Checking accuracy on validation set\n",
      "Got 803 / 1000 correct (80.30)\n",
      "t = 100, loss = 0.0043\n",
      "t = 200, loss = 0.0002\n",
      "t = 300, loss = 0.1057\n",
      "t = 400, loss = 0.0794\n",
      "t = 500, loss = 0.0200\n",
      "t = 600, loss = 0.0007\n",
      "t = 700, loss = 0.0065\n",
      "Starting epoch 19 / 20\n",
      "Checking accuracy on validation set\n",
      "Got 797 / 1000 correct (79.70)\n",
      "t = 100, loss = 0.0085\n",
      "t = 200, loss = 0.0073\n",
      "t = 300, loss = 0.0074\n",
      "t = 400, loss = 0.0021\n",
      "t = 500, loss = 0.0126\n",
      "t = 600, loss = 0.0018\n",
      "t = 700, loss = 0.0143\n",
      "Starting epoch 20 / 20\n",
      "Checking accuracy on validation set\n",
      "Got 810 / 1000 correct (81.00)\n",
      "t = 100, loss = 0.1221\n",
      "t = 200, loss = 0.0032\n",
      "t = 300, loss = 0.0178\n",
      "t = 400, loss = 0.0654\n",
      "t = 500, loss = 0.0112\n",
      "t = 600, loss = 0.0096\n",
      "t = 700, loss = 0.0575\n",
      "Checking accuracy on validation set\n",
      "Got 804 / 1000 correct (80.40)\n"
     ]
    }
   ],
   "source": [
    "# Train your model here, and make sure the output of this cell is the accuracy of your best model on the \n",
    "# train, val, and test sets. Here's some code to get you started. The output of this cell should be the training\n",
    "# and validation accuracy on your best model (measured by validation accuracy).\n",
    "\n",
    "class MyThreeLayerConvNet(nn.Module):\n",
    "    def __init__(self):\n",
    "        super(MyThreeLayerConvNet, self).__init__()\n",
    "        \"\"\"\n",
    "        [[Conv - Relu - Batch] * 2 - Pool] * 3 - Affine - Relu - Affine\n",
    "        \"\"\"\n",
    "        nf_1 = 128\n",
    "        nf_2 = 256\n",
    "        nf_3 = 512\n",
    "        nf_4 = 256\n",
    "        exteral_num = 3\n",
    "        affine_in_0 = (32 // (2**exteral_num))**2 * nf_3\n",
    "        affine_in_1 = affine_in_0 // 4\n",
    "        affine_in_2 = affine_in_1 // 4\n",
    "        affine_in_3 = affine_in_2 // 4\n",
    "        self.in_channel = [[3, nf_1, nf_1], [nf_1, nf_2, nf_2], [nf_2, nf_3, nf_3], [nf_3, nf_4, nf_4]]\n",
    "        self.out_channel = [[nf_1, nf_1, nf_1], [nf_2, nf_2, nf_2], [nf_3, nf_3, nf_3], [nf_4, nf_4, nf_4]]\n",
    "        self.batchnorm_features = [[nf_1, nf_1], [nf_2, nf_2],[nf_3, nf_3]]\n",
    "        self.kernel_size = [[3, 3, 3], [3, 3, 3], [3, 3, 3], [3, 3, 3]]\n",
    "        self.padding = [[1, 1, 1], [1, 1, 1], [1, 1, 1], [1, 1, 1]]\n",
    "        self.stride = [[1, 1, 1], [1, 1, 1], [1, 1, 1], [1, 1, 1]]\n",
    "        self.pool_size = [2, 2, 2, 2]\n",
    "        self.pool_stride = [2, 2, 2, 2]\n",
    "        self.affine_in = [affine_in_0, affine_in_1, affine_in_2]\n",
    "        self.affine_out = [affine_in_1, affine_in_2, 10]\n",
    "        self.layers = {}\n",
    "        \n",
    "        inner_num = 2\n",
    "        affine_num = 3\n",
    "        for i in range(exteral_num):\n",
    "            for j in range(inner_num):   \n",
    "                self.layers['conv{0}{1}'.format(i, j)] = nn.Conv2d(in_channels=self.in_channel[i][j],\n",
    "                    out_channels=self.out_channel[i][j],\n",
    "                    kernel_size=self.kernel_size[i][j], padding=self.padding[i][j],\n",
    "                    stride=self.stride[i][j])\n",
    "                self.layers['relu{0}{1}'.format(i, j)] = nn.ReLU()\n",
    "                self.layers['batchnorm{0}{1}'.format(i, j)] = nn.BatchNorm2d(self.batchnorm_features[i][j])\n",
    "            self.layers['pool{0}'.format(i)] = nn.MaxPool2d(kernel_size=self.pool_size[i])\n",
    "\n",
    "        for i in range(affine_num):\n",
    "            self.layers['affine{0}'.format(i)] = nn.Linear(self.affine_in[i], self.affine_out[i])\n",
    "        # Store parameters to let pytorch track\n",
    "        # https://discuss.pytorch.org/t/error-optimizer-got-an-empty-parameter-list/1501\n",
    "        # https://discuss.pytorch.org/t/valueerror-optimizer-got-an-empty-parameter-list-for-resnet18-project-with-extra-upsampling-layers/9104/2\n",
    "\n",
    "        layers = []\n",
    "        for i in range(exteral_num):\n",
    "            for j in range(inner_num):\n",
    "                layers.append(self.layers['conv{0}{1}'.format(i, j)])\n",
    "                layers.append(self.layers['relu{0}{1}'.format(i, j)])\n",
    "                layers.append(self.layers['batchnorm{0}{1}'.format(i, j)])\n",
    "            layers.append(self.layers['pool{0}'.format(i)])\n",
    "        layers.append(Flatten())\n",
    "        for i in range(affine_num):\n",
    "            layers.append(self.layers['affine{0}'.format(i)])\n",
    "            if i != affine_num - 1:\n",
    "                layers.append(self.layers['relu{0}0'.format(i)])\n",
    "                layers.append(nn.BatchNorm1d(self.affine_out[i]))\n",
    "                layers.append(nn.Dropout(0.7))\n",
    "        self.model = nn.Sequential(*layers)\n",
    "\n",
    "    def forward(self, x):\n",
    "        out = self.model(x)\n",
    "        return out\n",
    "\n",
    "import copy\n",
    "gpu_dtype = torch.cuda.FloatTensor\n",
    "\n",
    "model = MyThreeLayerConvNet()\n",
    "model_gpu = copy.deepcopy(model).type(gpu_dtype)\n",
    "loss_fn = nn.CrossEntropyLoss().type(gpu_dtype)\n",
    "optimizer1 = optim.Adam(model_gpu.parameters(), lr=0.001)\n",
    "optimizer2 = optim.RMSprop(model_gpu.parameters(), lr=0.0002, momentum=0.2)\n",
    "# model_gpu.train()\n",
    "best_model = train(model_gpu, loss_fn, optimizer2, num_epochs=20, dtype=gpu_dtype)"
   ]
  },
  {
   "cell_type": "code",
   "execution_count": null,
   "metadata": {
    "collapsed": false
   },
   "outputs": [],
   "source": [
    "# Train your model here, and make sure the output of this cell is the accuracy of your best model on the \n",
    "# train, val, and test sets. Here's some code to get you started. The output of this cell should be the training\n",
    "# and validation accuracy on your best model (measured by validation accuracy).\n",
    "\n",
    "class MyThreeLayerConvNet(nn.Module):\n",
    "    def __init__(self):\n",
    "        super(MyThreeLayerConvNet, self).__init__()\n",
    "        \"\"\"\n",
    "        [[Conv - Relu] * 2 - Pool] * 4 - Affine - Relu - Affine\n",
    "        \"\"\"\n",
    "        num_filter = 256\n",
    "        self.in_channel = [[3, num_filter, num_filter], [num_filter, num_filter, num_filter], [num_filter, num_filter, num_filter], [num_filter, num_filter, num_filter]]\n",
    "        self.out_channel = [[num_filter, num_filter, num_filter], [num_filter, num_filter, num_filter], [num_filter, num_filter, num_filter], [num_filter, num_filter, num_filter]]\n",
    "        self.batchnorm_features = [3, num_filter, num_filter, num_filter]\n",
    "        self.kernel_size = [[3, 3, 3], [3, 3, 3], [3, 3, 3], [3, 3, 3]]\n",
    "        self.padding = [[1, 1, 1], [1, 1, 1], [1, 1, 1], [1, 1, 1]]\n",
    "        self.stride = [[1, 1, 1], [1, 1, 1], [1, 1, 1], [1, 1, 1]]\n",
    "        self.pool_size = [2, 2, 2, 2]\n",
    "        self.pool_stride = [2, 2, 2, 2]\n",
    "        self.affine_in = [1024, 8192]\n",
    "        self.affine_out = [8192, 10]\n",
    "        self.layers = {}\n",
    "        \n",
    "        exteral_num = 4\n",
    "        inner_num = 2\n",
    "        affine_num = 3\n",
    "        for i in range(exteral_num):\n",
    "            self.layers['batchnorm{0}'.format(i)] = nn.BatchNorm2d(self.batchnorm_features[i])\n",
    "            for j in range(inner_num):   \n",
    "                self.layers['conv{0}{1}'.format(i, j)] = nn.Conv2d(in_channels=self.in_channel[i][j],\n",
    "                    out_channels=self.out_channel[i][j],\n",
    "                    kernel_size=self.kernel_size[i][j], padding=self.padding[i][j],\n",
    "                    stride=self.stride[i][j])\n",
    "                self.layers['relu{0}{1}'.format(i, j)] = nn.ReLU()\n",
    "            self.layers['pool{0}'.format(i)] = nn.MaxPool2d(kernel_size=self.pool_size[i])\n",
    "\n",
    "        for i in range(affine_num):\n",
    "            self.layers['affine{0}'.format(i)] = nn.Linear(self.affine_in[i], self.affine_out[i])\n",
    "\n",
    "        # Store parameters to let pytorch track\n",
    "        # https://discuss.pytorch.org/t/error-optimizer-got-an-empty-parameter-list/1501\n",
    "        # https://discuss.pytorch.org/t/valueerror-optimizer-got-an-empty-parameter-list-for-resnet18-project-with-extra-upsampling-layers/9104/2\n",
    "\n",
    "        layers = []\n",
    "        for i in range(exteral_num):\n",
    "            layers.append(self.layers['batchnorm{0}'.format(i)])\n",
    "            for j in range(inner_num):\n",
    "                layers.append(self.layers['conv{0}{1}'.format(i, j)])\n",
    "                layers.append(self.layers['relu{0}{1}'.format(i, j)])\n",
    "            layers.append(self.layers['pool{0}'.format(i)])\n",
    "        layers.append(Flatten())\n",
    "        for i in range(affine_num):\n",
    "            layers.append(self.layers['affine{0}'.format(i)])\n",
    "            if i == 0:\n",
    "                layers.append(self.layers['relu{0}0'.format(i)])\n",
    "        self.model = nn.Sequential(*layers)\n",
    "\n",
    "    def forward(self, x):\n",
    "        out = self.model(x)\n",
    "        return out\n",
    "\n",
    "import copy\n",
    "gpu_dtype = torch.cuda.FloatTensor\n",
    "\n",
    "model = MyThreeLayerConvNet()\n",
    "model_gpu = copy.deepcopy(model).type(gpu_dtype)\n",
    "loss_fn = nn.CrossEntropyLoss().type(gpu_dtype)\n",
    "optimizer = optim.Adam(model_gpu.parameters(), lr=0.001, weight_decay=1e-6)\n",
    "\n",
    "model_gpu.train()\n",
    "train(model_gpu, loss_fn, optimizer, num_epochs=20, dtype=gpu_dtype)"
   ]
  },
  {
   "cell_type": "markdown",
   "metadata": {},
   "source": [
    "### Things you should try:\n",
    "- **Filter size**: Above we used 7x7; this makes pretty pictures but smaller filters may be more efficient\n",
    "- **Number of filters**: Above we used 32 filters. Do more or fewer do better?\n",
    "- **Pooling vs Strided Convolution**: Do you use max pooling or just stride convolutions?\n",
    "- **Batch normalization**: Try adding spatial batch normalization after convolution layers and vanilla batch normalization after affine layers. Do your networks train faster?\n",
    "- **Network architecture**: The network above has two layers of trainable parameters. Can you do better with a deep network? Good architectures to try include:\n",
    "    - [conv-relu-pool]xN -> [affine]xM -> [softmax or SVM]\n",
    "    - [conv-relu-conv-relu-pool]xN -> [affine]xM -> [softmax or SVM]\n",
    "    - [batchnorm-relu-conv]xN -> [affine]xM -> [softmax or SVM]\n",
    "- **Global Average Pooling**: Instead of flattening and then having multiple affine layers, perform convolutions until your image gets small (7x7 or so) and then perform an average pooling operation to get to a 1x1 image picture (1, 1 , Filter#), which is then reshaped into a (Filter#) vector. This is used in [Google's Inception Network](https://arxiv.org/abs/1512.00567) (See Table 1 for their architecture).\n",
    "- **Regularization**: Add l2 weight regularization, or perhaps use Dropout.\n",
    "\n",
    "### Tips for training\n",
    "For each network architecture that you try, you should tune the learning rate and regularization strength. When doing this there are a couple important things to keep in mind:\n",
    "\n",
    "- If the parameters are working well, you should see improvement within a few hundred iterations\n",
    "- Remember the coarse-to-fine approach for hyperparameter tuning: start by testing a large range of hyperparameters for just a few training iterations to find the combinations of parameters that are working at all.\n",
    "- Once you have found some sets of parameters that seem to work, search more finely around these parameters. You may need to train for more epochs.\n",
    "- You should use the validation set for hyperparameter search, and save your test set for evaluating your architecture on the best parameters as selected by the validation set.\n",
    "\n",
    "### Going above and beyond\n",
    "If you are feeling adventurous there are many other features you can implement to try and improve your performance. You are **not required** to implement any of these; however they would be good things to try for extra credit.\n",
    "\n",
    "- Alternative update steps: For the assignment we implemented SGD+momentum, RMSprop, and Adam; you could try alternatives like AdaGrad or AdaDelta.\n",
    "- Alternative activation functions such as leaky ReLU, parametric ReLU, ELU, or MaxOut.\n",
    "- Model ensembles\n",
    "- Data augmentation\n",
    "- New Architectures\n",
    "  - [ResNets](https://arxiv.org/abs/1512.03385) where the input from the previous layer is added to the output.\n",
    "  - [DenseNets](https://arxiv.org/abs/1608.06993) where inputs into previous layers are concatenated together.\n",
    "  - [This blog has an in-depth overview](https://chatbotslife.com/resnets-highwaynets-and-densenets-oh-my-9bb15918ee32)\n",
    "\n",
    "If you do decide to implement something extra, clearly describe it in the \"Extra Credit Description\" cell below.\n",
    "\n",
    "### What we expect\n",
    "At the very least, you should be able to train a ConvNet that gets at least 70% accuracy on the validation set. This is just a lower bound - if you are careful it should be possible to get accuracies much higher than that! Extra credit points will be awarded for particularly high-scoring models or unique approaches.\n",
    "\n",
    "You should use the space below to experiment and train your network. \n",
    "\n",
    "Have fun and happy training!"
   ]
  },
  {
   "cell_type": "code",
   "execution_count": 29,
   "metadata": {
    "collapsed": false
   },
   "outputs": [
    {
     "name": "stdout",
     "output_type": "stream",
     "text": [
      "Checking accuracy on validation set\n",
      "Got 810 / 1000 correct (81.00)\n"
     ]
    },
    {
     "data": {
      "text/plain": [
       "0.81"
      ]
     },
     "execution_count": 29,
     "metadata": {},
     "output_type": "execute_result"
    }
   ],
   "source": [
    "check_accuracy(best_model, loader_val, dtype=gpu_dtype)"
   ]
  },
  {
   "cell_type": "markdown",
   "metadata": {},
   "source": [
    "### Describe what you did \n",
    "\n",
    "In the cell below you should write an explanation of what you did, any additional features that you implemented, and any visualizations or graphs that you make in the process of training and evaluating your network."
   ]
  },
  {
   "cell_type": "markdown",
   "metadata": {},
   "source": [
    "Tell us here!"
   ]
  },
  {
   "cell_type": "markdown",
   "metadata": {},
   "source": [
    "## Test set -- run this only once\n",
    "\n",
    "Now that we've gotten a result we're happy with, we test our final model on the test set (which you should store in best_model).  This would be the score we would achieve on a competition. Think about how this compares to your validation set accuracy."
   ]
  },
  {
   "cell_type": "code",
   "execution_count": 30,
   "metadata": {
    "collapsed": true
   },
   "outputs": [],
   "source": [
    "PATH = 'cur_best_model'\n",
    "torch.save(best_model.state_dict(), PATH)2\n"
   ]
  },
  {
   "cell_type": "code",
   "execution_count": 32,
   "metadata": {
    "collapsed": true
   },
   "outputs": [],
   "source": [
    "cur_model = MyThreeLayerConvNet()\n",
    "cur_model.load_state_dict(torch.load(PATH))"
   ]
  },
  {
   "cell_type": "code",
   "execution_count": 34,
   "metadata": {
    "collapsed": false
   },
   "outputs": [
    {
     "name": "stdout",
     "output_type": "stream",
     "text": [
      "Checking accuracy on test set\n",
      "Got 7832 / 10000 correct (78.32)\n"
     ]
    },
    {
     "data": {
      "text/plain": [
       "0.7832"
      ]
     },
     "execution_count": 34,
     "metadata": {},
     "output_type": "execute_result"
    }
   ],
   "source": [
    "# best_model = model_gpu\n",
    "gpu_dtype = torch.cuda.FloatTensor\n",
    "cur_model = cur_model.type(gpu_dtype)\n",
    "check_accuracy(cur_model, loader_test, dtype=gpu_dtype)"
   ]
  },
  {
   "cell_type": "markdown",
   "metadata": {},
   "source": [
    "## Going further with PyTorch\n",
    "\n",
    "The next assignment will make heavy use of PyTorch. You might also find it useful for your projects. \n",
    "\n",
    "Here's a nice tutorial by Justin Johnson that shows off some of PyTorch's features, like dynamic graphs and custom NN modules: http://pytorch.org/tutorials/beginner/pytorch_with_examples.html\n",
    "\n",
    "If you're interested in reinforcement learning for your final project, this is a good (more advanced) DQN tutorial in PyTorch: http://pytorch.org/tutorials/intermediate/reinforcement_q_learning.html"
   ]
  }
 ],
 "metadata": {
  "kernelspec": {
   "display_name": "Python 3",
   "language": "python",
   "name": "python3"
  },
  "language_info": {
   "codemirror_mode": {
    "name": "ipython",
    "version": 3
   },
   "file_extension": ".py",
   "mimetype": "text/x-python",
   "name": "python",
   "nbconvert_exporter": "python",
   "pygments_lexer": "ipython3",
   "version": "3.5.2"
  }
 },
 "nbformat": 4,
 "nbformat_minor": 0
}
