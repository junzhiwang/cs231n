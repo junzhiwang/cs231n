{
 "cells": [
  {
   "cell_type": "markdown",
   "metadata": {},
   "source": [
    "# Softmax exercise\n",
    "\n",
    "*Complete and hand in this completed worksheet (including its outputs and any supporting code outside of the worksheet) with your assignment submission. For more details see the [assignments page](http://vision.stanford.edu/teaching/cs231n/assignments.html) on the course website.*\n",
    "\n",
    "This exercise is analogous to the SVM exercise. You will:\n",
    "\n",
    "- implement a fully-vectorized **loss function** for the Softmax classifier\n",
    "- implement the fully-vectorized expression for its **analytic gradient**\n",
    "- **check your implementation** with numerical gradient\n",
    "- use a validation set to **tune the learning rate and regularization** strength\n",
    "- **optimize** the loss function with **SGD**\n",
    "- **visualize** the final learned weights\n"
   ]
  },
  {
   "cell_type": "code",
   "execution_count": 23,
   "metadata": {
    "collapsed": false
   },
   "outputs": [
    {
     "name": "stdout",
     "output_type": "stream",
     "text": [
      "The autoreload extension is already loaded. To reload it, use:\n",
      "  %reload_ext autoreload\n"
     ]
    }
   ],
   "source": [
    "import random\n",
    "import numpy as np\n",
    "from cs231n.data_utils import load_CIFAR10\n",
    "import matplotlib.pyplot as plt\n",
    "\n",
    "from __future__ import print_function\n",
    "\n",
    "%matplotlib inline\n",
    "plt.rcParams['figure.figsize'] = (10.0, 8.0) # set default size of plots\n",
    "plt.rcParams['image.interpolation'] = 'nearest'\n",
    "plt.rcParams['image.cmap'] = 'gray'\n",
    "\n",
    "# for auto-reloading extenrnal modules\n",
    "# see http://stackoverflow.com/questions/1907993/autoreload-of-modules-in-ipython\n",
    "%load_ext autoreload\n",
    "%autoreload 2"
   ]
  },
  {
   "cell_type": "code",
   "execution_count": 24,
   "metadata": {
    "collapsed": false
   },
   "outputs": [
    {
     "name": "stdout",
     "output_type": "stream",
     "text": [
      "Train data shape:  (49000, 3073)\n",
      "Train labels shape:  (49000,)\n",
      "Validation data shape:  (1000, 3073)\n",
      "Validation labels shape:  (1000,)\n",
      "Test data shape:  (1000, 3073)\n",
      "Test labels shape:  (1000,)\n",
      "dev data shape:  (500, 3073)\n",
      "dev labels shape:  (500,)\n"
     ]
    }
   ],
   "source": [
    "def get_CIFAR10_data(num_training=49000, num_validation=1000, num_test=1000, num_dev=500):\n",
    "    \"\"\"\n",
    "    Load the CIFAR-10 dataset from disk and perform preprocessing to prepare\n",
    "    it for the linear classifier. These are the same steps as we used for the\n",
    "    SVM, but condensed to a single function.  \n",
    "    \"\"\"\n",
    "    # Load the raw CIFAR-10 data\n",
    "    cifar10_dir = 'cs231n/datasets/cifar-10-batches-py'\n",
    "    X_train, y_train, X_test, y_test = load_CIFAR10(cifar10_dir)\n",
    "    \n",
    "    # subsample the data\n",
    "    mask = list(range(num_training, num_training + num_validation))\n",
    "    X_val = X_train[mask]\n",
    "    y_val = y_train[mask]\n",
    "    mask = list(range(num_training))\n",
    "    X_train = X_train[mask]\n",
    "    y_train = y_train[mask]\n",
    "    mask = list(range(num_test))\n",
    "    X_test = X_test[mask]\n",
    "    y_test = y_test[mask]\n",
    "    mask = np.random.choice(num_training, num_dev, replace=False)\n",
    "    X_dev = X_train[mask]\n",
    "    y_dev = y_train[mask]\n",
    "    \n",
    "    # Preprocessing: reshape the image data into rows\n",
    "    X_train = np.reshape(X_train, (X_train.shape[0], -1))\n",
    "    X_val = np.reshape(X_val, (X_val.shape[0], -1))\n",
    "    X_test = np.reshape(X_test, (X_test.shape[0], -1))\n",
    "    X_dev = np.reshape(X_dev, (X_dev.shape[0], -1))\n",
    "    \n",
    "    # Normalize the data: subtract the mean image\n",
    "    mean_image = np.mean(X_train, axis = 0)\n",
    "    X_train -= mean_image\n",
    "    X_val -= mean_image\n",
    "    X_test -= mean_image\n",
    "    X_dev -= mean_image\n",
    "    \n",
    "    # add bias dimension and transform into columns\n",
    "    X_train = np.hstack([X_train, np.ones((X_train.shape[0], 1))])\n",
    "    X_val = np.hstack([X_val, np.ones((X_val.shape[0], 1))])\n",
    "    X_test = np.hstack([X_test, np.ones((X_test.shape[0], 1))])\n",
    "    X_dev = np.hstack([X_dev, np.ones((X_dev.shape[0], 1))])\n",
    "    \n",
    "    return X_train, y_train, X_val, y_val, X_test, y_test, X_dev, y_dev\n",
    "\n",
    "\n",
    "# Invoke the above function to get our data.\n",
    "X_train, y_train, X_val, y_val, X_test, y_test, X_dev, y_dev = get_CIFAR10_data()\n",
    "print('Train data shape: ', X_train.shape)\n",
    "print('Train labels shape: ', y_train.shape)\n",
    "print('Validation data shape: ', X_val.shape)\n",
    "print('Validation labels shape: ', y_val.shape)\n",
    "print('Test data shape: ', X_test.shape)\n",
    "print('Test labels shape: ', y_test.shape)\n",
    "print('dev data shape: ', X_dev.shape)\n",
    "print('dev labels shape: ', y_dev.shape)"
   ]
  },
  {
   "cell_type": "markdown",
   "metadata": {},
   "source": [
    "## Softmax Classifier\n",
    "\n",
    "Your code for this section will all be written inside **cs231n/classifiers/softmax.py**. \n"
   ]
  },
  {
   "cell_type": "code",
   "execution_count": 25,
   "metadata": {
    "collapsed": false
   },
   "outputs": [
    {
     "name": "stdout",
     "output_type": "stream",
     "text": [
      "loss: 2.336443\n",
      "sanity check: 2.302585\n"
     ]
    }
   ],
   "source": [
    "# First implement the naive softmax loss function with nested loops.\n",
    "# Open the file cs231n/classifiers/softmax.py and implement the\n",
    "# softmax_loss_naive function.\n",
    "\n",
    "from cs231n.classifiers.softmax import softmax_loss_naive\n",
    "import time\n",
    "\n",
    "# Generate a random softmax weight matrix and use it to compute the loss.\n",
    "W = np.random.randn(3073, 10) * 0.0001\n",
    "loss, grad = softmax_loss_naive(W, X_dev, y_dev, 0.0)\n",
    "\n",
    "# As a rough sanity check, our loss should be something close to -log(0.1).\n",
    "print('loss: %f' % loss)\n",
    "print('sanity check: %f' % (-np.log(0.1)))"
   ]
  },
  {
   "cell_type": "markdown",
   "metadata": {},
   "source": [
    "## Inline Question 1:\n",
    "Why do we expect our loss to be close to -log(0.1)? Explain briefly.**\n",
    "\n",
    "**Your answer:** *Fill this in*\n"
   ]
  },
  {
   "cell_type": "code",
   "execution_count": 26,
   "metadata": {
    "collapsed": false
   },
   "outputs": [
    {
     "name": "stdout",
     "output_type": "stream",
     "text": [
      "numerical: 1.232046 analytic: 1.232046, relative error: 3.555770e-08\n",
      "numerical: -1.182691 analytic: -1.182691, relative error: 3.392847e-08\n",
      "numerical: 2.358437 analytic: 2.358437, relative error: 1.081420e-08\n",
      "numerical: -3.174536 analytic: -3.174536, relative error: 3.107796e-09\n",
      "numerical: 1.488649 analytic: 1.488649, relative error: 1.333811e-08\n",
      "numerical: 1.685323 analytic: 1.685323, relative error: 1.213153e-08\n",
      "numerical: 1.046831 analytic: 1.046831, relative error: 7.500383e-09\n",
      "numerical: -1.444737 analytic: -1.444737, relative error: 3.734941e-08\n",
      "numerical: -1.920807 analytic: -1.920807, relative error: 1.220596e-08\n",
      "numerical: -0.567722 analytic: -0.567722, relative error: 7.765039e-08\n",
      "numerical: -2.069031 analytic: -2.069031, relative error: 1.517932e-08\n",
      "numerical: 0.588003 analytic: 0.588003, relative error: 2.335342e-08\n",
      "numerical: -1.695611 analytic: -1.695611, relative error: 1.411647e-09\n",
      "numerical: -1.573385 analytic: -1.573385, relative error: 2.692450e-09\n",
      "numerical: -0.620816 analytic: -0.620816, relative error: 8.078972e-08\n",
      "numerical: 1.493419 analytic: 1.493419, relative error: 7.154309e-08\n",
      "numerical: 1.663966 analytic: 1.663966, relative error: 1.977267e-09\n",
      "numerical: 2.523000 analytic: 2.523000, relative error: 6.067392e-09\n",
      "numerical: 0.716143 analytic: 0.716143, relative error: 5.452648e-08\n",
      "numerical: 1.751176 analytic: 1.751176, relative error: 2.772133e-08\n"
     ]
    }
   ],
   "source": [
    "# Complete the implementation of softmax_loss_naive and implement a (naive)\n",
    "# version of the gradient that uses nested loops.\n",
    "loss, grad = softmax_loss_naive(W, X_dev, y_dev, 0.0)\n",
    "\n",
    "# As we did for the SVM, use numeric gradient checking as a debugging tool.\n",
    "# The numeric gradient should be close to the analytic gradient.\n",
    "from cs231n.gradient_check import grad_check_sparse\n",
    "f = lambda w: softmax_loss_naive(w, X_dev, y_dev, 0.0)[0]\n",
    "grad_numerical = grad_check_sparse(f, W, grad, 10)\n",
    "\n",
    "# similar to SVM case, do another gradient check with regularization\n",
    "loss, grad = softmax_loss_naive(W, X_dev, y_dev, 5e1)\n",
    "f = lambda w: softmax_loss_naive(w, X_dev, y_dev, 5e1)[0]\n",
    "grad_numerical = grad_check_sparse(f, W, grad, 10)"
   ]
  },
  {
   "cell_type": "code",
   "execution_count": 27,
   "metadata": {
    "collapsed": false
   },
   "outputs": [
    {
     "name": "stdout",
     "output_type": "stream",
     "text": [
      "naive loss: 2.336443e+00 computed in 0.143555s\n",
      "vectorized loss: 2.336443e+00 computed in 0.024394s\n",
      "Loss difference: 0.000000\n",
      "Gradient difference: 0.000000\n"
     ]
    }
   ],
   "source": [
    "# Now that we have a naive implementation of the softmax loss function and its gradient,\n",
    "# implement a vectorized version in softmax_loss_vectorized.\n",
    "# The two versions should compute the same results, but the vectorized version should be\n",
    "# much faster.\n",
    "tic = time.time()\n",
    "loss_naive, grad_naive = softmax_loss_naive(W, X_dev, y_dev, 0.000005)\n",
    "toc = time.time()\n",
    "print('naive loss: %e computed in %fs' % (loss_naive, toc - tic))\n",
    "\n",
    "from cs231n.classifiers.softmax import softmax_loss_vectorized\n",
    "tic = time.time()\n",
    "loss_vectorized, grad_vectorized = softmax_loss_vectorized(W, X_dev, y_dev, 0.000005)\n",
    "toc = time.time()\n",
    "print('vectorized loss: %e computed in %fs' % (loss_vectorized, toc - tic))\n",
    "\n",
    "# As we did for the SVM, we use the Frobenius norm to compare the two versions\n",
    "# of the gradient.\n",
    "grad_difference = np.linalg.norm(grad_naive - grad_vectorized, ord='fro')\n",
    "print('Loss difference: %f' % np.abs(loss_naive - loss_vectorized))\n",
    "print('Gradient difference: %f' % grad_difference)"
   ]
  },
  {
   "cell_type": "code",
   "execution_count": 28,
   "metadata": {
    "collapsed": false
   },
   "outputs": [
    {
     "name": "stdout",
     "output_type": "stream",
     "text": [
      "iteration 0 / 1500: loss 380.675744\n",
      "iteration 100 / 1500: loss 229.956021\n",
      "iteration 200 / 1500: loss 139.745781\n",
      "iteration 300 / 1500: loss 85.374137\n",
      "iteration 400 / 1500: loss 52.487716\n",
      "iteration 500 / 1500: loss 32.464706\n",
      "iteration 600 / 1500: loss 20.465258\n",
      "iteration 700 / 1500: loss 13.196416\n",
      "iteration 800 / 1500: loss 8.802908\n",
      "iteration 900 / 1500: loss 6.113476\n",
      "iteration 1000 / 1500: loss 4.550509\n",
      "iteration 1100 / 1500: loss 3.504522\n",
      "iteration 1200 / 1500: loss 2.900411\n",
      "iteration 1300 / 1500: loss 2.618840\n",
      "iteration 1400 / 1500: loss 2.306936\n",
      "iteration 0 / 1500: loss 775.815466\n",
      "iteration 100 / 1500: loss 284.896888\n",
      "iteration 200 / 1500: loss 105.419805\n",
      "iteration 300 / 1500: loss 39.940603\n",
      "iteration 400 / 1500: loss 15.932101\n",
      "iteration 500 / 1500: loss 7.120125\n",
      "iteration 600 / 1500: loss 3.925864\n",
      "iteration 700 / 1500: loss 2.741480\n",
      "iteration 800 / 1500: loss 2.369960\n",
      "iteration 900 / 1500: loss 2.135725\n",
      "iteration 1000 / 1500: loss 2.165200\n",
      "iteration 1100 / 1500: loss 2.173621\n",
      "iteration 1200 / 1500: loss 2.073078\n",
      "iteration 1300 / 1500: loss 2.063835\n",
      "iteration 1400 / 1500: loss 2.041764\n",
      "iteration 0 / 1500: loss 390.613611\n",
      "iteration 100 / 1500: loss 33.049667\n",
      "iteration 200 / 1500: loss 4.447814\n",
      "iteration 300 / 1500: loss 2.191193\n",
      "iteration 400 / 1500: loss 2.066753\n",
      "iteration 500 / 1500: loss 2.047530\n",
      "iteration 600 / 1500: loss 2.061193\n",
      "iteration 700 / 1500: loss 2.016993\n",
      "iteration 800 / 1500: loss 2.048420\n",
      "iteration 900 / 1500: loss 2.085972\n",
      "iteration 1000 / 1500: loss 1.912852\n",
      "iteration 1100 / 1500: loss 2.037774\n",
      "iteration 1200 / 1500: loss 1.967326\n",
      "iteration 1300 / 1500: loss 2.029557\n",
      "iteration 1400 / 1500: loss 2.047085\n",
      "iteration 0 / 1500: loss 776.794512\n",
      "iteration 100 / 1500: loss 6.885117\n",
      "iteration 200 / 1500: loss 2.143050\n",
      "iteration 300 / 1500: loss 2.067943\n",
      "iteration 400 / 1500: loss 2.126605\n",
      "iteration 500 / 1500: loss 2.061031\n",
      "iteration 600 / 1500: loss 2.119454\n",
      "iteration 700 / 1500: loss 2.098043\n",
      "iteration 800 / 1500: loss 2.073890\n",
      "iteration 900 / 1500: loss 2.053436\n",
      "iteration 1000 / 1500: loss 2.044269\n",
      "iteration 1100 / 1500: loss 2.090794\n",
      "iteration 1200 / 1500: loss 2.112159\n",
      "iteration 1300 / 1500: loss 2.091009\n",
      "iteration 1400 / 1500: loss 2.131863\n",
      "lr 1.000000e-07 reg 2.500000e+04 train accuracy: 0.352939 val accuracy: 0.373000\n",
      "lr 1.000000e-07 reg 5.000000e+04 train accuracy: 0.324245 val accuracy: 0.340000\n",
      "lr 5.000000e-07 reg 2.500000e+04 train accuracy: 0.352469 val accuracy: 0.362000\n",
      "lr 5.000000e-07 reg 5.000000e+04 train accuracy: 0.329612 val accuracy: 0.337000\n",
      "best validation accuracy achieved during cross-validation: 0.373000\n"
     ]
    }
   ],
   "source": [
    "# Use the validation set to tune hyperparameters (regularization strength and\n",
    "# learning rate). You should experiment with different ranges for the learning\n",
    "# rates and regularization strengths; if you are careful you should be able to\n",
    "# get a classification accuracy of over 0.35 on the validation set.\n",
    "from cs231n.classifiers import Softmax\n",
    "results = {}\n",
    "best_val = -1\n",
    "best_softmax = None\n",
    "learning_rates = [1e-7, 5e-7]\n",
    "regularization_strengths = [2.5e4, 5e4]\n",
    "\n",
    "for lr in learning_rates:\n",
    "\tfor rs in regularization_strengths:\n",
    "\t\tsfm = Softmax()\n",
    "\t\tsfm.train(X_train, y_train, learning_rate=lr, reg=rs, num_iters=1500, verbose=True)\n",
    "\t\ty_train_pred = sfm.predict(X_train)\n",
    "\t\ty_val_pred = sfm.predict(X_val)\n",
    "\t\ttrain_accuracy = np.mean(y_train == y_train_pred)\n",
    "\t\tval_accuracy = np.mean(y_val == y_val_pred)\n",
    "\t\tresults[(lr, rs)] = (train_accuracy, val_accuracy)\n",
    "\t\tif val_accuracy > best_val:\n",
    "\t\t\tbest_val = val_accuracy\n",
    "\t\t\tbest_softmax = sfm\n",
    "    \n",
    "# Print out results.\n",
    "for lr, reg in sorted(results):\n",
    "    train_accuracy, val_accuracy = results[(lr, reg)]\n",
    "    print('lr %e reg %e train accuracy: %f val accuracy: %f' % (\n",
    "                lr, reg, train_accuracy, val_accuracy))\n",
    "    \n",
    "print('best validation accuracy achieved during cross-validation: %f' % best_val)"
   ]
  },
  {
   "cell_type": "code",
   "execution_count": 29,
   "metadata": {
    "collapsed": false
   },
   "outputs": [
    {
     "name": "stdout",
     "output_type": "stream",
     "text": [
      "softmax on raw pixels final test set accuracy: 0.352000\n"
     ]
    }
   ],
   "source": [
    "# evaluate on test set\n",
    "# Evaluate the best softmax on test set\n",
    "y_test_pred = best_softmax.predict(X_test)\n",
    "test_accuracy = np.mean(y_test == y_test_pred)\n",
    "print('softmax on raw pixels final test set accuracy: %f' % (test_accuracy, ))"
   ]
  },
  {
   "cell_type": "code",
   "execution_count": 30,
   "metadata": {
    "collapsed": false
   },
   "outputs": [
    {
     "data": {
      "image/png": "[encoded data removed]",
      "text/plain": [
       "<matplotlib.figure.Figure at 0x1160e1910>"
      ]
     },
     "metadata": {},
     "output_type": "display_data"
    }
   ],
   "source": [
    "# Visualize the learned weights for each class\n",
    "w = best_softmax.W[:-1,:] # strip out the bias\n",
    "w = w.reshape(32, 32, 3, 10)\n",
    "\n",
    "w_min, w_max = np.min(w), np.max(w)\n",
    "\n",
    "classes = ['plane', 'car', 'bird', 'cat', 'deer', 'dog', 'frog', 'horse', 'ship', 'truck']\n",
    "for i in range(10):\n",
    "    plt.subplot(2, 5, i + 1)\n",
    "    \n",
    "    # Rescale the weights to be between 0 and 255\n",
    "    wimg = 255.0 * (w[:, :, :, i].squeeze() - w_min) / (w_max - w_min)\n",
    "    plt.imshow(wimg.astype('uint8'))\n",
    "    plt.axis('off')\n",
    "    plt.title(classes[i])"
   ]
  },
  {
   "cell_type": "code",
   "execution_count": null,
   "metadata": {
    "collapsed": true
   },
   "outputs": [],
   "source": []
  }
 ],
 "metadata": {
  "kernelspec": {
   "display_name": "Python 2",
   "language": "python",
   "name": "python2"
  },
  "language_info": {
   "codemirror_mode": {
    "name": "ipython",
    "version": 2
   },
   "file_extension": ".py",
   "mimetype": "text/x-python",
   "name": "python",
   "nbconvert_exporter": "python",
   "pygments_lexer": "ipython2",
   "version": "2.7.13"
  }
 },
 "nbformat": 4,
 "nbformat_minor": 0
}
